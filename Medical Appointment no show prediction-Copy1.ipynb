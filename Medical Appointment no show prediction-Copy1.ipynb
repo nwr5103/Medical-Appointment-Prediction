{
 "cells": [
  {
   "cell_type": "markdown",
   "metadata": {},
   "source": [
    "## Medical Appointment no show prediction\n",
    "### By : Lisa McFadden, Lidia Soto, Natalie Rodriguez"
   ]
  },
  {
   "cell_type": "markdown",
   "metadata": {},
   "source": [
    "### Import libraries required for analysis and models"
   ]
  },
  {
   "cell_type": "code",
   "execution_count": 1,
   "metadata": {},
   "outputs": [],
   "source": [
    "import numpy as np\n",
    "import pandas as pd\n",
    "import seaborn as sns\n",
    "sns.set_palette('Set2')\n",
    "import matplotlib.pyplot as plt\n",
    "%matplotlib inline\n",
    "\n",
    "    \n",
    "from sklearn.model_selection import train_test_split\n",
    "from sklearn.linear_model import LogisticRegression\n",
    "\n",
    "import time\n",
    "import datetime as dt\n",
    "from datetime import datetime\n"
   ]
  },
  {
   "cell_type": "markdown",
   "metadata": {},
   "source": [
    "### Import data and look at your data content"
   ]
  },
  {
   "cell_type": "code",
   "execution_count": 2,
   "metadata": {
    "scrolled": true
   },
   "outputs": [
    {
     "data": {
      "text/html": [
       "<div>\n",
       "<style scoped>\n",
       "    .dataframe tbody tr th:only-of-type {\n",
       "        vertical-align: middle;\n",
       "    }\n",
       "\n",
       "    .dataframe tbody tr th {\n",
       "        vertical-align: top;\n",
       "    }\n",
       "\n",
       "    .dataframe thead th {\n",
       "        text-align: right;\n",
       "    }\n",
       "</style>\n",
       "<table border=\"1\" class=\"dataframe\">\n",
       "  <thead>\n",
       "    <tr style=\"text-align: right;\">\n",
       "      <th></th>\n",
       "      <th>Age</th>\n",
       "      <th>Gender</th>\n",
       "      <th>AppointmentRegistration</th>\n",
       "      <th>ApointmentData</th>\n",
       "      <th>DayOfTheWeek</th>\n",
       "      <th>Status</th>\n",
       "      <th>Diabetes</th>\n",
       "      <th>Alcoolism</th>\n",
       "      <th>HiperTension</th>\n",
       "      <th>Handcap</th>\n",
       "      <th>Smokes</th>\n",
       "      <th>Scholarship</th>\n",
       "      <th>Tuberculosis</th>\n",
       "      <th>Sms_Reminder</th>\n",
       "      <th>AwaitingTime</th>\n",
       "    </tr>\n",
       "  </thead>\n",
       "  <tbody>\n",
       "    <tr>\n",
       "      <th>0</th>\n",
       "      <td>19</td>\n",
       "      <td>M</td>\n",
       "      <td>2014-12-16T14:46:25Z</td>\n",
       "      <td>2015-01-14T00:00:00Z</td>\n",
       "      <td>Wednesday</td>\n",
       "      <td>Show-Up</td>\n",
       "      <td>0</td>\n",
       "      <td>0</td>\n",
       "      <td>0</td>\n",
       "      <td>0</td>\n",
       "      <td>0</td>\n",
       "      <td>0</td>\n",
       "      <td>0</td>\n",
       "      <td>0</td>\n",
       "      <td>-29</td>\n",
       "    </tr>\n",
       "    <tr>\n",
       "      <th>1</th>\n",
       "      <td>24</td>\n",
       "      <td>F</td>\n",
       "      <td>2015-08-18T07:01:26Z</td>\n",
       "      <td>2015-08-19T00:00:00Z</td>\n",
       "      <td>Wednesday</td>\n",
       "      <td>Show-Up</td>\n",
       "      <td>0</td>\n",
       "      <td>0</td>\n",
       "      <td>0</td>\n",
       "      <td>0</td>\n",
       "      <td>0</td>\n",
       "      <td>0</td>\n",
       "      <td>0</td>\n",
       "      <td>0</td>\n",
       "      <td>-1</td>\n",
       "    </tr>\n",
       "    <tr>\n",
       "      <th>2</th>\n",
       "      <td>4</td>\n",
       "      <td>F</td>\n",
       "      <td>2014-02-17T12:53:46Z</td>\n",
       "      <td>2014-02-18T00:00:00Z</td>\n",
       "      <td>Tuesday</td>\n",
       "      <td>Show-Up</td>\n",
       "      <td>0</td>\n",
       "      <td>0</td>\n",
       "      <td>0</td>\n",
       "      <td>0</td>\n",
       "      <td>0</td>\n",
       "      <td>0</td>\n",
       "      <td>0</td>\n",
       "      <td>0</td>\n",
       "      <td>-1</td>\n",
       "    </tr>\n",
       "    <tr>\n",
       "      <th>3</th>\n",
       "      <td>5</td>\n",
       "      <td>M</td>\n",
       "      <td>2014-07-23T17:02:11Z</td>\n",
       "      <td>2014-08-07T00:00:00Z</td>\n",
       "      <td>Thursday</td>\n",
       "      <td>Show-Up</td>\n",
       "      <td>0</td>\n",
       "      <td>0</td>\n",
       "      <td>0</td>\n",
       "      <td>0</td>\n",
       "      <td>0</td>\n",
       "      <td>0</td>\n",
       "      <td>0</td>\n",
       "      <td>1</td>\n",
       "      <td>-15</td>\n",
       "    </tr>\n",
       "    <tr>\n",
       "      <th>4</th>\n",
       "      <td>38</td>\n",
       "      <td>M</td>\n",
       "      <td>2015-10-21T15:20:09Z</td>\n",
       "      <td>2015-10-27T00:00:00Z</td>\n",
       "      <td>Tuesday</td>\n",
       "      <td>Show-Up</td>\n",
       "      <td>0</td>\n",
       "      <td>0</td>\n",
       "      <td>0</td>\n",
       "      <td>0</td>\n",
       "      <td>0</td>\n",
       "      <td>0</td>\n",
       "      <td>0</td>\n",
       "      <td>1</td>\n",
       "      <td>-6</td>\n",
       "    </tr>\n",
       "  </tbody>\n",
       "</table>\n",
       "</div>"
      ],
      "text/plain": [
       "   Age Gender AppointmentRegistration        ApointmentData DayOfTheWeek  \\\n",
       "0   19      M    2014-12-16T14:46:25Z  2015-01-14T00:00:00Z    Wednesday   \n",
       "1   24      F    2015-08-18T07:01:26Z  2015-08-19T00:00:00Z    Wednesday   \n",
       "2    4      F    2014-02-17T12:53:46Z  2014-02-18T00:00:00Z      Tuesday   \n",
       "3    5      M    2014-07-23T17:02:11Z  2014-08-07T00:00:00Z     Thursday   \n",
       "4   38      M    2015-10-21T15:20:09Z  2015-10-27T00:00:00Z      Tuesday   \n",
       "\n",
       "    Status  Diabetes  Alcoolism  HiperTension  Handcap  Smokes  Scholarship  \\\n",
       "0  Show-Up         0          0             0        0       0            0   \n",
       "1  Show-Up         0          0             0        0       0            0   \n",
       "2  Show-Up         0          0             0        0       0            0   \n",
       "3  Show-Up         0          0             0        0       0            0   \n",
       "4  Show-Up         0          0             0        0       0            0   \n",
       "\n",
       "   Tuberculosis  Sms_Reminder  AwaitingTime  \n",
       "0             0             0           -29  \n",
       "1             0             0            -1  \n",
       "2             0             0            -1  \n",
       "3             0             1           -15  \n",
       "4             0             1            -6  "
      ]
     },
     "execution_count": 2,
     "metadata": {},
     "output_type": "execute_result"
    }
   ],
   "source": [
    "data = pd.read_csv('No-show-Issue-Comma-300k.csv')\n",
    "data.head()"
   ]
  },
  {
   "cell_type": "markdown",
   "metadata": {},
   "source": [
    "### DATA PROCESSING\n"
   ]
  },
  {
   "cell_type": "markdown",
   "metadata": {},
   "source": [
    "### Renaming Columns\n",
    "#### From looking at the data head we can see some of the columns are spelled incorrectly the code below will fix this "
   ]
  },
  {
   "cell_type": "code",
   "execution_count": 3,
   "metadata": {},
   "outputs": [],
   "source": [
    "data.rename(columns = {'ApointmentData':'AppointmentData',\n",
    "                         'Alcoolism': 'Alchoholism',\n",
    "                         'HiperTension': 'Hypertension',\n",
    "                         'Handcap': 'Handicap'}, inplace = True)"
   ]
  },
  {
   "cell_type": "code",
   "execution_count": 4,
   "metadata": {},
   "outputs": [
    {
     "name": "stdout",
     "output_type": "stream",
     "text": [
      "Index(['Age', 'Gender', 'AppointmentRegistration', 'AppointmentData',\n",
      "       'DayOfTheWeek', 'Status', 'Diabetes', 'Alchoholism', 'Hypertension',\n",
      "       'Handicap', 'Smokes', 'Scholarship', 'Tuberculosis', 'Sms_Reminder',\n",
      "       'AwaitingTime'],\n",
      "      dtype='object')\n"
     ]
    }
   ],
   "source": [
    "print(data.columns)"
   ]
  },
  {
   "cell_type": "markdown",
   "metadata": {},
   "source": [
    "### Checking for Blanks"
   ]
  },
  {
   "cell_type": "code",
   "execution_count": 5,
   "metadata": {},
   "outputs": [
    {
     "data": {
      "text/plain": [
       "Age                        False\n",
       "Gender                     False\n",
       "AppointmentRegistration    False\n",
       "AppointmentData            False\n",
       "DayOfTheWeek               False\n",
       "Status                     False\n",
       "Diabetes                   False\n",
       "Alchoholism                False\n",
       "Hypertension               False\n",
       "Handicap                   False\n",
       "Smokes                     False\n",
       "Scholarship                False\n",
       "Tuberculosis               False\n",
       "Sms_Reminder               False\n",
       "AwaitingTime               False\n",
       "dtype: bool"
      ]
     },
     "execution_count": 5,
     "metadata": {},
     "output_type": "execute_result"
    }
   ],
   "source": [
    "data.isnull().any()"
   ]
  },
  {
   "cell_type": "markdown",
   "metadata": {},
   "source": [
    "### Converting the AppointmentRegistration and AppointmentData into a date and time format "
   ]
  },
  {
   "cell_type": "code",
   "execution_count": 6,
   "metadata": {},
   "outputs": [],
   "source": [
    "data['AppointmentRegistration'] = pd.to_datetime(data['AppointmentRegistration'])\n",
    "data['AppointmentData'] = pd.to_datetime(data['AppointmentData'])"
   ]
  },
  {
   "cell_type": "markdown",
   "metadata": {},
   "source": [
    "### Extract month from the appointments"
   ]
  },
  {
   "cell_type": "code",
   "execution_count": 7,
   "metadata": {},
   "outputs": [],
   "source": [
    "data['AppointmentMonths'] = data['AppointmentData'].apply(lambda x : dt.datetime.strftime(x, '%B'))"
   ]
  },
  {
   "cell_type": "code",
   "execution_count": 8,
   "metadata": {},
   "outputs": [
    {
     "data": {
      "text/html": [
       "<div>\n",
       "<style scoped>\n",
       "    .dataframe tbody tr th:only-of-type {\n",
       "        vertical-align: middle;\n",
       "    }\n",
       "\n",
       "    .dataframe tbody tr th {\n",
       "        vertical-align: top;\n",
       "    }\n",
       "\n",
       "    .dataframe thead th {\n",
       "        text-align: right;\n",
       "    }\n",
       "</style>\n",
       "<table border=\"1\" class=\"dataframe\">\n",
       "  <thead>\n",
       "    <tr style=\"text-align: right;\">\n",
       "      <th></th>\n",
       "      <th>Age</th>\n",
       "      <th>Gender</th>\n",
       "      <th>AppointmentRegistration</th>\n",
       "      <th>AppointmentData</th>\n",
       "      <th>DayOfTheWeek</th>\n",
       "      <th>Status</th>\n",
       "      <th>Diabetes</th>\n",
       "      <th>Alchoholism</th>\n",
       "      <th>Hypertension</th>\n",
       "      <th>Handicap</th>\n",
       "      <th>Smokes</th>\n",
       "      <th>Scholarship</th>\n",
       "      <th>Tuberculosis</th>\n",
       "      <th>Sms_Reminder</th>\n",
       "      <th>AwaitingTime</th>\n",
       "      <th>AppointmentMonths</th>\n",
       "    </tr>\n",
       "  </thead>\n",
       "  <tbody>\n",
       "    <tr>\n",
       "      <th>0</th>\n",
       "      <td>19</td>\n",
       "      <td>M</td>\n",
       "      <td>2014-12-16 14:46:25+00:00</td>\n",
       "      <td>2015-01-14 00:00:00+00:00</td>\n",
       "      <td>Wednesday</td>\n",
       "      <td>Show-Up</td>\n",
       "      <td>0</td>\n",
       "      <td>0</td>\n",
       "      <td>0</td>\n",
       "      <td>0</td>\n",
       "      <td>0</td>\n",
       "      <td>0</td>\n",
       "      <td>0</td>\n",
       "      <td>0</td>\n",
       "      <td>-29</td>\n",
       "      <td>January</td>\n",
       "    </tr>\n",
       "    <tr>\n",
       "      <th>1</th>\n",
       "      <td>24</td>\n",
       "      <td>F</td>\n",
       "      <td>2015-08-18 07:01:26+00:00</td>\n",
       "      <td>2015-08-19 00:00:00+00:00</td>\n",
       "      <td>Wednesday</td>\n",
       "      <td>Show-Up</td>\n",
       "      <td>0</td>\n",
       "      <td>0</td>\n",
       "      <td>0</td>\n",
       "      <td>0</td>\n",
       "      <td>0</td>\n",
       "      <td>0</td>\n",
       "      <td>0</td>\n",
       "      <td>0</td>\n",
       "      <td>-1</td>\n",
       "      <td>August</td>\n",
       "    </tr>\n",
       "    <tr>\n",
       "      <th>2</th>\n",
       "      <td>4</td>\n",
       "      <td>F</td>\n",
       "      <td>2014-02-17 12:53:46+00:00</td>\n",
       "      <td>2014-02-18 00:00:00+00:00</td>\n",
       "      <td>Tuesday</td>\n",
       "      <td>Show-Up</td>\n",
       "      <td>0</td>\n",
       "      <td>0</td>\n",
       "      <td>0</td>\n",
       "      <td>0</td>\n",
       "      <td>0</td>\n",
       "      <td>0</td>\n",
       "      <td>0</td>\n",
       "      <td>0</td>\n",
       "      <td>-1</td>\n",
       "      <td>February</td>\n",
       "    </tr>\n",
       "    <tr>\n",
       "      <th>3</th>\n",
       "      <td>5</td>\n",
       "      <td>M</td>\n",
       "      <td>2014-07-23 17:02:11+00:00</td>\n",
       "      <td>2014-08-07 00:00:00+00:00</td>\n",
       "      <td>Thursday</td>\n",
       "      <td>Show-Up</td>\n",
       "      <td>0</td>\n",
       "      <td>0</td>\n",
       "      <td>0</td>\n",
       "      <td>0</td>\n",
       "      <td>0</td>\n",
       "      <td>0</td>\n",
       "      <td>0</td>\n",
       "      <td>1</td>\n",
       "      <td>-15</td>\n",
       "      <td>August</td>\n",
       "    </tr>\n",
       "    <tr>\n",
       "      <th>4</th>\n",
       "      <td>38</td>\n",
       "      <td>M</td>\n",
       "      <td>2015-10-21 15:20:09+00:00</td>\n",
       "      <td>2015-10-27 00:00:00+00:00</td>\n",
       "      <td>Tuesday</td>\n",
       "      <td>Show-Up</td>\n",
       "      <td>0</td>\n",
       "      <td>0</td>\n",
       "      <td>0</td>\n",
       "      <td>0</td>\n",
       "      <td>0</td>\n",
       "      <td>0</td>\n",
       "      <td>0</td>\n",
       "      <td>1</td>\n",
       "      <td>-6</td>\n",
       "      <td>October</td>\n",
       "    </tr>\n",
       "  </tbody>\n",
       "</table>\n",
       "</div>"
      ],
      "text/plain": [
       "   Age Gender   AppointmentRegistration           AppointmentData  \\\n",
       "0   19      M 2014-12-16 14:46:25+00:00 2015-01-14 00:00:00+00:00   \n",
       "1   24      F 2015-08-18 07:01:26+00:00 2015-08-19 00:00:00+00:00   \n",
       "2    4      F 2014-02-17 12:53:46+00:00 2014-02-18 00:00:00+00:00   \n",
       "3    5      M 2014-07-23 17:02:11+00:00 2014-08-07 00:00:00+00:00   \n",
       "4   38      M 2015-10-21 15:20:09+00:00 2015-10-27 00:00:00+00:00   \n",
       "\n",
       "  DayOfTheWeek   Status  Diabetes  Alchoholism  Hypertension  Handicap  \\\n",
       "0    Wednesday  Show-Up         0            0             0         0   \n",
       "1    Wednesday  Show-Up         0            0             0         0   \n",
       "2      Tuesday  Show-Up         0            0             0         0   \n",
       "3     Thursday  Show-Up         0            0             0         0   \n",
       "4      Tuesday  Show-Up         0            0             0         0   \n",
       "\n",
       "   Smokes  Scholarship  Tuberculosis  Sms_Reminder  AwaitingTime  \\\n",
       "0       0            0             0             0           -29   \n",
       "1       0            0             0             0            -1   \n",
       "2       0            0             0             0            -1   \n",
       "3       0            0             0             1           -15   \n",
       "4       0            0             0             1            -6   \n",
       "\n",
       "  AppointmentMonths  \n",
       "0           January  \n",
       "1            August  \n",
       "2          February  \n",
       "3            August  \n",
       "4           October  "
      ]
     },
     "execution_count": 8,
     "metadata": {},
     "output_type": "execute_result"
    }
   ],
   "source": [
    "data.head()"
   ]
  },
  {
   "cell_type": "code",
   "execution_count": 9,
   "metadata": {},
   "outputs": [
    {
     "data": {
      "text/html": [
       "<div>\n",
       "<style scoped>\n",
       "    .dataframe tbody tr th:only-of-type {\n",
       "        vertical-align: middle;\n",
       "    }\n",
       "\n",
       "    .dataframe tbody tr th {\n",
       "        vertical-align: top;\n",
       "    }\n",
       "\n",
       "    .dataframe thead th {\n",
       "        text-align: right;\n",
       "    }\n",
       "</style>\n",
       "<table border=\"1\" class=\"dataframe\">\n",
       "  <thead>\n",
       "    <tr style=\"text-align: right;\">\n",
       "      <th></th>\n",
       "      <th>Age</th>\n",
       "      <th>Diabetes</th>\n",
       "      <th>Alchoholism</th>\n",
       "      <th>Hypertension</th>\n",
       "      <th>Handicap</th>\n",
       "      <th>Smokes</th>\n",
       "      <th>Scholarship</th>\n",
       "      <th>Tuberculosis</th>\n",
       "      <th>Sms_Reminder</th>\n",
       "      <th>AwaitingTime</th>\n",
       "    </tr>\n",
       "  </thead>\n",
       "  <tbody>\n",
       "    <tr>\n",
       "      <th>count</th>\n",
       "      <td>300000.000000</td>\n",
       "      <td>300000.000000</td>\n",
       "      <td>300000.000000</td>\n",
       "      <td>300000.000000</td>\n",
       "      <td>300000.000000</td>\n",
       "      <td>300000.000000</td>\n",
       "      <td>300000.000000</td>\n",
       "      <td>300000.000000</td>\n",
       "      <td>300000.000000</td>\n",
       "      <td>300000.000000</td>\n",
       "    </tr>\n",
       "    <tr>\n",
       "      <th>mean</th>\n",
       "      <td>37.808017</td>\n",
       "      <td>0.077967</td>\n",
       "      <td>0.025010</td>\n",
       "      <td>0.215890</td>\n",
       "      <td>0.020523</td>\n",
       "      <td>0.052370</td>\n",
       "      <td>0.096897</td>\n",
       "      <td>0.000450</td>\n",
       "      <td>0.574173</td>\n",
       "      <td>-13.841813</td>\n",
       "    </tr>\n",
       "    <tr>\n",
       "      <th>std</th>\n",
       "      <td>22.809014</td>\n",
       "      <td>0.268120</td>\n",
       "      <td>0.156156</td>\n",
       "      <td>0.411439</td>\n",
       "      <td>0.155934</td>\n",
       "      <td>0.222772</td>\n",
       "      <td>0.295818</td>\n",
       "      <td>0.021208</td>\n",
       "      <td>0.499826</td>\n",
       "      <td>15.687697</td>\n",
       "    </tr>\n",
       "    <tr>\n",
       "      <th>min</th>\n",
       "      <td>-2.000000</td>\n",
       "      <td>0.000000</td>\n",
       "      <td>0.000000</td>\n",
       "      <td>0.000000</td>\n",
       "      <td>0.000000</td>\n",
       "      <td>0.000000</td>\n",
       "      <td>0.000000</td>\n",
       "      <td>0.000000</td>\n",
       "      <td>0.000000</td>\n",
       "      <td>-398.000000</td>\n",
       "    </tr>\n",
       "    <tr>\n",
       "      <th>25%</th>\n",
       "      <td>19.000000</td>\n",
       "      <td>0.000000</td>\n",
       "      <td>0.000000</td>\n",
       "      <td>0.000000</td>\n",
       "      <td>0.000000</td>\n",
       "      <td>0.000000</td>\n",
       "      <td>0.000000</td>\n",
       "      <td>0.000000</td>\n",
       "      <td>0.000000</td>\n",
       "      <td>-20.000000</td>\n",
       "    </tr>\n",
       "    <tr>\n",
       "      <th>50%</th>\n",
       "      <td>38.000000</td>\n",
       "      <td>0.000000</td>\n",
       "      <td>0.000000</td>\n",
       "      <td>0.000000</td>\n",
       "      <td>0.000000</td>\n",
       "      <td>0.000000</td>\n",
       "      <td>0.000000</td>\n",
       "      <td>0.000000</td>\n",
       "      <td>1.000000</td>\n",
       "      <td>-8.000000</td>\n",
       "    </tr>\n",
       "    <tr>\n",
       "      <th>75%</th>\n",
       "      <td>56.000000</td>\n",
       "      <td>0.000000</td>\n",
       "      <td>0.000000</td>\n",
       "      <td>0.000000</td>\n",
       "      <td>0.000000</td>\n",
       "      <td>0.000000</td>\n",
       "      <td>0.000000</td>\n",
       "      <td>0.000000</td>\n",
       "      <td>1.000000</td>\n",
       "      <td>-4.000000</td>\n",
       "    </tr>\n",
       "    <tr>\n",
       "      <th>max</th>\n",
       "      <td>113.000000</td>\n",
       "      <td>1.000000</td>\n",
       "      <td>1.000000</td>\n",
       "      <td>1.000000</td>\n",
       "      <td>4.000000</td>\n",
       "      <td>1.000000</td>\n",
       "      <td>1.000000</td>\n",
       "      <td>1.000000</td>\n",
       "      <td>2.000000</td>\n",
       "      <td>-1.000000</td>\n",
       "    </tr>\n",
       "  </tbody>\n",
       "</table>\n",
       "</div>"
      ],
      "text/plain": [
       "                 Age       Diabetes    Alchoholism   Hypertension  \\\n",
       "count  300000.000000  300000.000000  300000.000000  300000.000000   \n",
       "mean       37.808017       0.077967       0.025010       0.215890   \n",
       "std        22.809014       0.268120       0.156156       0.411439   \n",
       "min        -2.000000       0.000000       0.000000       0.000000   \n",
       "25%        19.000000       0.000000       0.000000       0.000000   \n",
       "50%        38.000000       0.000000       0.000000       0.000000   \n",
       "75%        56.000000       0.000000       0.000000       0.000000   \n",
       "max       113.000000       1.000000       1.000000       1.000000   \n",
       "\n",
       "            Handicap         Smokes    Scholarship   Tuberculosis  \\\n",
       "count  300000.000000  300000.000000  300000.000000  300000.000000   \n",
       "mean        0.020523       0.052370       0.096897       0.000450   \n",
       "std         0.155934       0.222772       0.295818       0.021208   \n",
       "min         0.000000       0.000000       0.000000       0.000000   \n",
       "25%         0.000000       0.000000       0.000000       0.000000   \n",
       "50%         0.000000       0.000000       0.000000       0.000000   \n",
       "75%         0.000000       0.000000       0.000000       0.000000   \n",
       "max         4.000000       1.000000       1.000000       1.000000   \n",
       "\n",
       "        Sms_Reminder   AwaitingTime  \n",
       "count  300000.000000  300000.000000  \n",
       "mean        0.574173     -13.841813  \n",
       "std         0.499826      15.687697  \n",
       "min         0.000000    -398.000000  \n",
       "25%         0.000000     -20.000000  \n",
       "50%         1.000000      -8.000000  \n",
       "75%         1.000000      -4.000000  \n",
       "max         2.000000      -1.000000  "
      ]
     },
     "execution_count": 9,
     "metadata": {},
     "output_type": "execute_result"
    }
   ],
   "source": [
    "data.describe()"
   ]
  },
  {
   "cell_type": "code",
   "execution_count": 10,
   "metadata": {},
   "outputs": [],
   "source": [
    "data = data[(data['Age'] < 100) & (data['Age'] > 0)] ## drop all ages more than 100 and less than 0 \n",
    "data.AwaitingTime = data.AwaitingTime.apply(abs)"
   ]
  },
  {
   "cell_type": "code",
   "execution_count": 11,
   "metadata": {},
   "outputs": [
    {
     "data": {
      "text/html": [
       "<div>\n",
       "<style scoped>\n",
       "    .dataframe tbody tr th:only-of-type {\n",
       "        vertical-align: middle;\n",
       "    }\n",
       "\n",
       "    .dataframe tbody tr th {\n",
       "        vertical-align: top;\n",
       "    }\n",
       "\n",
       "    .dataframe thead th {\n",
       "        text-align: right;\n",
       "    }\n",
       "</style>\n",
       "<table border=\"1\" class=\"dataframe\">\n",
       "  <thead>\n",
       "    <tr style=\"text-align: right;\">\n",
       "      <th></th>\n",
       "      <th>Age</th>\n",
       "      <th>Diabetes</th>\n",
       "      <th>Alchoholism</th>\n",
       "      <th>Hypertension</th>\n",
       "      <th>Handicap</th>\n",
       "      <th>Smokes</th>\n",
       "      <th>Scholarship</th>\n",
       "      <th>Tuberculosis</th>\n",
       "      <th>Sms_Reminder</th>\n",
       "      <th>AwaitingTime</th>\n",
       "    </tr>\n",
       "  </thead>\n",
       "  <tbody>\n",
       "    <tr>\n",
       "      <th>count</th>\n",
       "      <td>289631.000000</td>\n",
       "      <td>289631.000000</td>\n",
       "      <td>289631.000000</td>\n",
       "      <td>289631.000000</td>\n",
       "      <td>289631.000000</td>\n",
       "      <td>289631.000000</td>\n",
       "      <td>289631.000000</td>\n",
       "      <td>289631.000000</td>\n",
       "      <td>289631.000000</td>\n",
       "      <td>289631.000000</td>\n",
       "    </tr>\n",
       "    <tr>\n",
       "      <th>mean</th>\n",
       "      <td>39.148517</td>\n",
       "      <td>0.080748</td>\n",
       "      <td>0.025905</td>\n",
       "      <td>0.223536</td>\n",
       "      <td>0.021227</td>\n",
       "      <td>0.054241</td>\n",
       "      <td>0.099364</td>\n",
       "      <td>0.000459</td>\n",
       "      <td>0.575284</td>\n",
       "      <td>13.753272</td>\n",
       "    </tr>\n",
       "    <tr>\n",
       "      <th>std</th>\n",
       "      <td>22.035217</td>\n",
       "      <td>0.272448</td>\n",
       "      <td>0.158853</td>\n",
       "      <td>0.416615</td>\n",
       "      <td>0.158558</td>\n",
       "      <td>0.226494</td>\n",
       "      <td>0.299151</td>\n",
       "      <td>0.021424</td>\n",
       "      <td>0.499705</td>\n",
       "      <td>15.630098</td>\n",
       "    </tr>\n",
       "    <tr>\n",
       "      <th>min</th>\n",
       "      <td>1.000000</td>\n",
       "      <td>0.000000</td>\n",
       "      <td>0.000000</td>\n",
       "      <td>0.000000</td>\n",
       "      <td>0.000000</td>\n",
       "      <td>0.000000</td>\n",
       "      <td>0.000000</td>\n",
       "      <td>0.000000</td>\n",
       "      <td>0.000000</td>\n",
       "      <td>1.000000</td>\n",
       "    </tr>\n",
       "    <tr>\n",
       "      <th>25%</th>\n",
       "      <td>21.000000</td>\n",
       "      <td>0.000000</td>\n",
       "      <td>0.000000</td>\n",
       "      <td>0.000000</td>\n",
       "      <td>0.000000</td>\n",
       "      <td>0.000000</td>\n",
       "      <td>0.000000</td>\n",
       "      <td>0.000000</td>\n",
       "      <td>0.000000</td>\n",
       "      <td>4.000000</td>\n",
       "    </tr>\n",
       "    <tr>\n",
       "      <th>50%</th>\n",
       "      <td>39.000000</td>\n",
       "      <td>0.000000</td>\n",
       "      <td>0.000000</td>\n",
       "      <td>0.000000</td>\n",
       "      <td>0.000000</td>\n",
       "      <td>0.000000</td>\n",
       "      <td>0.000000</td>\n",
       "      <td>0.000000</td>\n",
       "      <td>1.000000</td>\n",
       "      <td>8.000000</td>\n",
       "    </tr>\n",
       "    <tr>\n",
       "      <th>75%</th>\n",
       "      <td>56.000000</td>\n",
       "      <td>0.000000</td>\n",
       "      <td>0.000000</td>\n",
       "      <td>0.000000</td>\n",
       "      <td>0.000000</td>\n",
       "      <td>0.000000</td>\n",
       "      <td>0.000000</td>\n",
       "      <td>0.000000</td>\n",
       "      <td>1.000000</td>\n",
       "      <td>20.000000</td>\n",
       "    </tr>\n",
       "    <tr>\n",
       "      <th>max</th>\n",
       "      <td>99.000000</td>\n",
       "      <td>1.000000</td>\n",
       "      <td>1.000000</td>\n",
       "      <td>1.000000</td>\n",
       "      <td>4.000000</td>\n",
       "      <td>1.000000</td>\n",
       "      <td>1.000000</td>\n",
       "      <td>1.000000</td>\n",
       "      <td>2.000000</td>\n",
       "      <td>398.000000</td>\n",
       "    </tr>\n",
       "  </tbody>\n",
       "</table>\n",
       "</div>"
      ],
      "text/plain": [
       "                 Age       Diabetes    Alchoholism   Hypertension  \\\n",
       "count  289631.000000  289631.000000  289631.000000  289631.000000   \n",
       "mean       39.148517       0.080748       0.025905       0.223536   \n",
       "std        22.035217       0.272448       0.158853       0.416615   \n",
       "min         1.000000       0.000000       0.000000       0.000000   \n",
       "25%        21.000000       0.000000       0.000000       0.000000   \n",
       "50%        39.000000       0.000000       0.000000       0.000000   \n",
       "75%        56.000000       0.000000       0.000000       0.000000   \n",
       "max        99.000000       1.000000       1.000000       1.000000   \n",
       "\n",
       "            Handicap         Smokes    Scholarship   Tuberculosis  \\\n",
       "count  289631.000000  289631.000000  289631.000000  289631.000000   \n",
       "mean        0.021227       0.054241       0.099364       0.000459   \n",
       "std         0.158558       0.226494       0.299151       0.021424   \n",
       "min         0.000000       0.000000       0.000000       0.000000   \n",
       "25%         0.000000       0.000000       0.000000       0.000000   \n",
       "50%         0.000000       0.000000       0.000000       0.000000   \n",
       "75%         0.000000       0.000000       0.000000       0.000000   \n",
       "max         4.000000       1.000000       1.000000       1.000000   \n",
       "\n",
       "        Sms_Reminder   AwaitingTime  \n",
       "count  289631.000000  289631.000000  \n",
       "mean        0.575284      13.753272  \n",
       "std         0.499705      15.630098  \n",
       "min         0.000000       1.000000  \n",
       "25%         0.000000       4.000000  \n",
       "50%         1.000000       8.000000  \n",
       "75%         1.000000      20.000000  \n",
       "max         2.000000     398.000000  "
      ]
     },
     "execution_count": 11,
     "metadata": {},
     "output_type": "execute_result"
    }
   ],
   "source": [
    "data.describe()"
   ]
  },
  {
   "cell_type": "markdown",
   "metadata": {},
   "source": [
    "## Preliminary questions answered by data visualization\n",
    "### 1.Who skips the doctor more often?\n",
    "#### Below we observe more females miss appointments but this does not completly answer our question, the data contains more entried for females than males.\n"
   ]
  },
  {
   "cell_type": "code",
   "execution_count": 13,
   "metadata": {},
   "outputs": [
    {
     "data": {
      "text/plain": [
       "<matplotlib.axes._subplots.AxesSubplot at 0x20064e9ee48>"
      ]
     },
     "execution_count": 13,
     "metadata": {},
     "output_type": "execute_result"
    },
    {
     "data": {
      "image/png": "[encoded data removed]",
      "text/plain": [
       "<Figure size 432x288 with 1 Axes>"
      ]
     },
     "metadata": {
      "needs_background": "light"
     },
     "output_type": "display_data"
    }
   ],
   "source": [
    "\n",
    "visits = data[data['Status'] == 'No-Show']\n",
    "sns.countplot(x='Gender', data=visits)"
   ]
  },
  {
   "cell_type": "markdown",
   "metadata": {},
   "source": [
    "### 2. what is the proportion of male & female?\n",
    "#### We can see there is a higer portion of women on the dataset"
   ]
  },
  {
   "cell_type": "code",
   "execution_count": 14,
   "metadata": {},
   "outputs": [
    {
     "data": {
      "text/plain": [
       "F    0.674527\n",
       "M    0.325473\n",
       "Name: Gender, dtype: float64"
      ]
     },
     "execution_count": 14,
     "metadata": {},
     "output_type": "execute_result"
    }
   ],
   "source": [
    "\n",
    "data['Gender'].value_counts(normalize = True)"
   ]
  },
  {
   "cell_type": "markdown",
   "metadata": {},
   "source": [
    "### Visualise male vs female distribution"
   ]
  },
  {
   "cell_type": "code",
   "execution_count": 15,
   "metadata": {},
   "outputs": [
    {
     "data": {
      "text/plain": [
       "(-1.106186393288021,\n",
       " 1.1002945901565724,\n",
       " -1.1060981953800797,\n",
       " 1.103556809187218)"
      ]
     },
     "execution_count": 15,
     "metadata": {},
     "output_type": "execute_result"
    },
    {
     "data": {
      "image/png": "[encoded data removed]",
      "text/plain": [
       "<Figure size 432x288 with 1 Axes>"
      ]
     },
     "metadata": {},
     "output_type": "display_data"
    }
   ],
   "source": [
    "\n",
    "fig, pie = plt.subplots()\n",
    "data['Gender'].value_counts(normalize = True).plot(kind='pie', autopct='%1.1f%%')\n",
    "pie.axis('equal')"
   ]
  },
  {
   "cell_type": "markdown",
   "metadata": {},
   "source": [
    "### 3. What is the proportion of missing the appointment whether the patient is male or female?\n",
    "\n",
    "#### Although females made up more of the patient population in the dataset, roughly similar proportions of males and females showed up for their appointments."
   ]
  },
  {
   "cell_type": "code",
   "execution_count": 16,
   "metadata": {},
   "outputs": [
    {
     "data": {
      "image/png": "[encoded data removed]",
      "text/plain": [
       "<Figure size 432x288 with 1 Axes>"
      ]
     },
     "metadata": {
      "needs_background": "light"
     },
     "output_type": "display_data"
    }
   ],
   "source": [
    "x = sns.countplot(x='Status', hue='Gender', data=data)\n",
    "# to plot the values over the labels\n",
    "total = float(len(data))\n",
    "for p in x.patches:\n",
    "    height = p.get_height()\n",
    "    x.text(p.get_x()+p.get_width()/2.,\n",
    "            height + 3,\n",
    "            '{:1.2f}'.format(height/total),\n",
    "            ha='center')"
   ]
  },
  {
   "cell_type": "markdown",
   "metadata": {},
   "source": [
    "### 4. in which month most patients miss their appointments\n",
    "####  fewer appointments occurred over the North America winter months but the number of no-shows was fairly stable from month-to-month.  "
   ]
  },
  {
   "cell_type": "code",
   "execution_count": 17,
   "metadata": {},
   "outputs": [
    {
     "data": {
      "text/plain": [
       "(array([ 0,  1,  2,  3,  4,  5,  6,  7,  8,  9, 10, 11]),\n",
       " <a list of 12 Text xticklabel objects>)"
      ]
     },
     "execution_count": 17,
     "metadata": {},
     "output_type": "execute_result"
    },
    {
     "data": {
      "image/png": "[encoded data removed]",
      "text/plain": [
       "<Figure size 432x288 with 1 Axes>"
      ]
     },
     "metadata": {
      "needs_background": "light"
     },
     "output_type": "display_data"
    }
   ],
   "source": [
    "sns.countplot(x='AppointmentMonths', hue='Status', data=data, order = data['AppointmentMonths'].value_counts().index)\n",
    "plt.xticks(rotation=28)"
   ]
  },
  {
   "cell_type": "markdown",
   "metadata": {},
   "source": [
    "### 5. In which day the patients visit their doctors most frequently?\n",
    "\n",
    "#### The majority of appointments were during the week with the peak number of appointments occurring on Tuesday and Wednesday.  "
   ]
  },
  {
   "cell_type": "code",
   "execution_count": 18,
   "metadata": {},
   "outputs": [
    {
     "data": {
      "text/plain": [
       "(array([0, 1, 2, 3, 4, 5, 6]), <a list of 7 Text xticklabel objects>)"
      ]
     },
     "execution_count": 18,
     "metadata": {},
     "output_type": "execute_result"
    },
    {
     "data": {
      "image/png": "[encoded data removed]",
      "text/plain": [
       "<Figure size 432x288 with 1 Axes>"
      ]
     },
     "metadata": {
      "needs_background": "light"
     },
     "output_type": "display_data"
    }
   ],
   "source": [
    "\n",
    "sns.countplot(x='DayOfTheWeek', data=visits)\n",
    "plt.xticks(rotation=15)"
   ]
  },
  {
   "cell_type": "markdown",
   "metadata": {},
   "source": [
    "### 6. is there specific weekday when most patients miss their appointments?\n",
    " \n",
    "#### The result show Monday is the day with the highest no show count"
   ]
  },
  {
   "cell_type": "code",
   "execution_count": 19,
   "metadata": {},
   "outputs": [
    {
     "data": {
      "text/plain": [
       "DayOfTheWeek\n",
       "Monday       18402\n",
       "Wednesday    18286\n",
       "Tuesday      17524\n",
       "Thursday     17243\n",
       "Friday       15801\n",
       "Saturday       512\n",
       "Sunday           1\n",
       "Name: Status, dtype: int64"
      ]
     },
     "execution_count": 19,
     "metadata": {},
     "output_type": "execute_result"
    }
   ],
   "source": [
    "miss = data[data['Status'] == 'No-Show']\n",
    "miss.groupby('DayOfTheWeek')['Status'].count().sort_values(ascending=False)"
   ]
  },
  {
   "cell_type": "code",
   "execution_count": 20,
   "metadata": {},
   "outputs": [
    {
     "data": {
      "text/plain": [
       "<matplotlib.axes._subplots.AxesSubplot at 0x1aa31db7cc0>"
      ]
     },
     "execution_count": 20,
     "metadata": {},
     "output_type": "execute_result"
    },
    {
     "data": {
      "image/png": "[encoded data removed]",
      "text/plain": [
       "<Figure size 432x288 with 1 Axes>"
      ]
     },
     "metadata": {
      "needs_background": "light"
     },
     "output_type": "display_data"
    }
   ],
   "source": [
    "sns.countplot(x='DayOfTheWeek', hue='Status', data=data)"
   ]
  },
  {
   "cell_type": "markdown",
   "metadata": {},
   "source": [
    "###  7. Do men and women visit the doctor on the same days?\n",
    "#### Taking into consideration there are more women samples it seems pretty even that men and women visit the doctor"
   ]
  },
  {
   "cell_type": "code",
   "execution_count": 21,
   "metadata": {},
   "outputs": [
    {
     "data": {
      "text/plain": [
       "<matplotlib.axes._subplots.AxesSubplot at 0x1aa31b8b198>"
      ]
     },
     "execution_count": 21,
     "metadata": {},
     "output_type": "execute_result"
    },
    {
     "data": {
      "image/png": "[encoded data removed]",
      "text/plain": [
       "<Figure size 432x288 with 1 Axes>"
      ]
     },
     "metadata": {
      "needs_background": "light"
     },
     "output_type": "display_data"
    }
   ],
   "source": [
    "sns.countplot(x='DayOfTheWeek', hue='Gender', data=visits)"
   ]
  },
  {
   "cell_type": "markdown",
   "metadata": {},
   "source": [
    "### 8. how likely patients come to their scheduled appointment if they have received a sms\n",
    "#### in the graph below it seems like SMS does not have much effect on patient showing up to their appointment"
   ]
  },
  {
   "cell_type": "code",
   "execution_count": 22,
   "metadata": {},
   "outputs": [
    {
     "data": {
      "text/plain": [
       "<seaborn.axisgrid.FacetGrid at 0x1aa3194ef60>"
      ]
     },
     "execution_count": 22,
     "metadata": {},
     "output_type": "execute_result"
    },
    {
     "data": {
      "image/png": "[encoded data removed]",
      "text/plain": [
       "<Figure size 440x360 with 1 Axes>"
      ]
     },
     "metadata": {
      "needs_background": "light"
     },
     "output_type": "display_data"
    }
   ],
   "source": [
    "\n",
    "sns.catplot('Sms_Reminder', hue='Status', data=data, kind='count')"
   ]
  },
  {
   "cell_type": "markdown",
   "metadata": {},
   "source": [
    "### 8.Next the feature variables were visualized with the target variable of appointment status"
   ]
  },
  {
   "cell_type": "code",
   "execution_count": 18,
   "metadata": {},
   "outputs": [
    {
     "data": {
      "image/png": "[encoded data removed]",
      "text/plain": [
       "<Figure size 432x288 with 1 Axes>"
      ]
     },
     "metadata": {
      "needs_background": "light"
     },
     "output_type": "display_data"
    },
    {
     "data": {
      "image/png": "[encoded data removed]",
      "text/plain": [
       "<Figure size 432x288 with 1 Axes>"
      ]
     },
     "metadata": {
      "needs_background": "light"
     },
     "output_type": "display_data"
    },
    {
     "data": {
      "image/png": "[encoded data removed]",
      "text/plain": [
       "<Figure size 432x288 with 1 Axes>"
      ]
     },
     "metadata": {
      "needs_background": "light"
     },
     "output_type": "display_data"
    },
    {
     "data": {
      "image/png": "[encoded data removed]",
      "text/plain": [
       "<Figure size 432x288 with 1 Axes>"
      ]
     },
     "metadata": {
      "needs_background": "light"
     },
     "output_type": "display_data"
    },
    {
     "data": {
      "image/png": "[encoded data removed]",
      "text/plain": [
       "<Figure size 432x288 with 1 Axes>"
      ]
     },
     "metadata": {
      "needs_background": "light"
     },
     "output_type": "display_data"
    },
    {
     "data": {
      "image/png": "[encoded data removed]",
      "text/plain": [
       "<Figure size 432x288 with 1 Axes>"
      ]
     },
     "metadata": {
      "needs_background": "light"
     },
     "output_type": "display_data"
    },
    {
     "data": {
      "image/png": "[encoded data removed]",
      "text/plain": [
       "<Figure size 432x288 with 1 Axes>"
      ]
     },
     "metadata": {
      "needs_background": "light"
     },
     "output_type": "display_data"
    }
   ],
   "source": [
    "sns.countplot(x='Gender', hue='Status', data=data, palette='RdBu')\n",
    "plt.show();\n",
    "sns.countplot(x='Handicap', hue='Status', data=data, palette='RdBu')\n",
    "plt.show();\n",
    "sns.countplot(x='Alchoholism', hue='Status', data=data, palette='RdBu')\n",
    "plt.show();\n",
    "sns.countplot(x='Hypertension', hue='Status', data=data, palette='RdBu')\n",
    "plt.show();\n",
    "sns.countplot(x='Diabetes', hue='Status', data=data, palette='RdBu')\n",
    "plt.show();\n",
    "sns.countplot(x='Scholarship', hue='Status', data=data, palette='RdBu')\n",
    "plt.show();\n",
    "sns.countplot(x='Smokes', hue='Status', data=data, palette='RdBu')\n",
    "plt.show();"
   ]
  },
  {
   "cell_type": "markdown",
   "metadata": {},
   "source": [
    "### Below We identify the total amount of patient i n our data set to use on the function below\n",
    "### Then we use a  function what will calculate all percentages of:     \n",
    "* Scholarship\n",
    "* Hypertension\n",
    "* Diabetes\n",
    "* Alchoholism\n",
    "* Smokes\n",
    "* Status (males & Females) \n"
   ]
  },
  {
   "cell_type": "code",
   "execution_count": 24,
   "metadata": {},
   "outputs": [],
   "source": [
    "total_of_patients=len(data)"
   ]
  },
  {
   "cell_type": "code",
   "execution_count": 25,
   "metadata": {},
   "outputs": [],
   "source": [
    "def calculate_percentage(name,data):\n",
    "  \n",
    "    if name == 'Status':\n",
    "        yes, no = data[name].value_counts()\n",
    "        print('percentage of patients no show: {}%'.format(no/total_of_patients*100))\n",
    "        print('percentage of patients Show up : {}%'.format(yes/total_of_patients*100))\n",
    "    else:\n",
    "        not_have, have = data[name].value_counts()\n",
    "        print('percentage of patients not have {} : {}%'.format(name,not_have/total_of_patients*100))\n",
    "        print('percentage of patients have {} : {}%'.format(name,have/total_of_patients*100))"
   ]
  },
  {
   "cell_type": "code",
   "execution_count": 26,
   "metadata": {},
   "outputs": [
    {
     "name": "stdout",
     "output_type": "stream",
     "text": [
      "percentage of patients not have Scholarship : 90.06356363787026%\n",
      "percentage of patients have Scholarship : 9.936436362129744%\n",
      "percentage of patients not have Hypertension : 77.64638453756677%\n",
      "percentage of patients have Hypertension : 22.353615462433236%\n",
      "percentage of patients not have Diabetes : 91.92524280895347%\n",
      "percentage of patients have Diabetes : 8.074757191046539%\n",
      "percentage of patients not have Alchoholism : 97.40946238489664%\n",
      "percentage of patients have Alchoholism : 2.5905376151033557%\n",
      "percentage of patients not have Smokes : 94.57585686615037%\n",
      "percentage of patients have Smokes : 5.424143133849622%\n",
      "percentage of patients no show: 30.30373129948106%\n",
      "percentage of patients Show up : 69.69626870051894%\n"
     ]
    }
   ],
   "source": [
    "columns=['Scholarship','Hypertension','Diabetes','Alchoholism','Smokes','Status']\n",
    "for name in columns:\n",
    "    calculate_percentage(name,data)"
   ]
  },
  {
   "cell_type": "code",
   "execution_count": 19,
   "metadata": {},
   "outputs": [
    {
     "data": {
      "text/plain": [
       "Text(0.5, 1.0, 'Correlation Matrix for Appointment Data')"
      ]
     },
     "execution_count": 19,
     "metadata": {},
     "output_type": "execute_result"
    },
    {
     "data": {
      "image/png": "[encoded data removed]",
      "text/plain": [
       "<Figure size 792x648 with 2 Axes>"
      ]
     },
     "metadata": {
      "needs_background": "light"
     },
     "output_type": "display_data"
    }
   ],
   "source": [
    "# View correlation matrix\n",
    "corr = data.corr()\n",
    "\n",
    "# Generate a mask for the upper triangle\n",
    "mask = np.zeros_like(corr, dtype=np.bool)\n",
    "mask[np.triu_indices_from(mask)] = True\n",
    "\n",
    "# Set up the matplotlib figure\n",
    "f, ax = plt.subplots(figsize=(11, 9))\n",
    "\n",
    "# Generate a custom diverging colormap\n",
    "cmap = sns.diverging_palette(10, 220, as_cmap=True)\n",
    "\n",
    "# Draw the heatmap with the mask and correct aspect ratio\n",
    "sns.heatmap(corr, mask=mask, cmap=cmap, vmax=.3,\n",
    "            square=True, xticklabels=True, yticklabels=True,\n",
    "            linewidths=.5, cbar_kws={\"shrink\": .5}, ax=ax)\n",
    "plt.title('Correlation Matrix for Appointment Data')\n"
   ]
  },
  {
   "cell_type": "markdown",
   "metadata": {},
   "source": [
    "### Cleaning data into numeric form\n",
    "### Convert  F =0, M=1\n",
    "### Convert no-show status to numbers no-show =0 , show =1"
   ]
  },
  {
   "cell_type": "code",
   "execution_count": 12,
   "metadata": {},
   "outputs": [],
   "source": [
    "data['Gender'] = data.Gender.apply(lambda x: 0 if(x=='F') else 1)\n",
    "data['Status'] = data.Status.apply(lambda x: 0 if(x=='No-Show') else 1)\n",
    "data['Handicap'] = data['Handicap'].apply(lambda x: 2 if x > 2 else x)"
   ]
  },
  {
   "cell_type": "markdown",
   "metadata": {},
   "source": [
    "### Show a sample of the data after numeric enncoding is applied"
   ]
  },
  {
   "cell_type": "code",
   "execution_count": 13,
   "metadata": {
    "scrolled": true
   },
   "outputs": [
    {
     "data": {
      "text/html": [
       "<div>\n",
       "<style scoped>\n",
       "    .dataframe tbody tr th:only-of-type {\n",
       "        vertical-align: middle;\n",
       "    }\n",
       "\n",
       "    .dataframe tbody tr th {\n",
       "        vertical-align: top;\n",
       "    }\n",
       "\n",
       "    .dataframe thead th {\n",
       "        text-align: right;\n",
       "    }\n",
       "</style>\n",
       "<table border=\"1\" class=\"dataframe\">\n",
       "  <thead>\n",
       "    <tr style=\"text-align: right;\">\n",
       "      <th></th>\n",
       "      <th>Age</th>\n",
       "      <th>Gender</th>\n",
       "      <th>AppointmentRegistration</th>\n",
       "      <th>AppointmentData</th>\n",
       "      <th>DayOfTheWeek</th>\n",
       "      <th>Status</th>\n",
       "      <th>Diabetes</th>\n",
       "      <th>Alchoholism</th>\n",
       "      <th>Hypertension</th>\n",
       "      <th>Handicap</th>\n",
       "      <th>Smokes</th>\n",
       "      <th>Scholarship</th>\n",
       "      <th>Tuberculosis</th>\n",
       "      <th>Sms_Reminder</th>\n",
       "      <th>AwaitingTime</th>\n",
       "      <th>AppointmentMonths</th>\n",
       "    </tr>\n",
       "  </thead>\n",
       "  <tbody>\n",
       "    <tr>\n",
       "      <th>0</th>\n",
       "      <td>19</td>\n",
       "      <td>1</td>\n",
       "      <td>2014-12-16 14:46:25+00:00</td>\n",
       "      <td>2015-01-14 00:00:00+00:00</td>\n",
       "      <td>Wednesday</td>\n",
       "      <td>1</td>\n",
       "      <td>0</td>\n",
       "      <td>0</td>\n",
       "      <td>0</td>\n",
       "      <td>0</td>\n",
       "      <td>0</td>\n",
       "      <td>0</td>\n",
       "      <td>0</td>\n",
       "      <td>0</td>\n",
       "      <td>29</td>\n",
       "      <td>January</td>\n",
       "    </tr>\n",
       "    <tr>\n",
       "      <th>1</th>\n",
       "      <td>24</td>\n",
       "      <td>0</td>\n",
       "      <td>2015-08-18 07:01:26+00:00</td>\n",
       "      <td>2015-08-19 00:00:00+00:00</td>\n",
       "      <td>Wednesday</td>\n",
       "      <td>1</td>\n",
       "      <td>0</td>\n",
       "      <td>0</td>\n",
       "      <td>0</td>\n",
       "      <td>0</td>\n",
       "      <td>0</td>\n",
       "      <td>0</td>\n",
       "      <td>0</td>\n",
       "      <td>0</td>\n",
       "      <td>1</td>\n",
       "      <td>August</td>\n",
       "    </tr>\n",
       "    <tr>\n",
       "      <th>2</th>\n",
       "      <td>4</td>\n",
       "      <td>0</td>\n",
       "      <td>2014-02-17 12:53:46+00:00</td>\n",
       "      <td>2014-02-18 00:00:00+00:00</td>\n",
       "      <td>Tuesday</td>\n",
       "      <td>1</td>\n",
       "      <td>0</td>\n",
       "      <td>0</td>\n",
       "      <td>0</td>\n",
       "      <td>0</td>\n",
       "      <td>0</td>\n",
       "      <td>0</td>\n",
       "      <td>0</td>\n",
       "      <td>0</td>\n",
       "      <td>1</td>\n",
       "      <td>February</td>\n",
       "    </tr>\n",
       "    <tr>\n",
       "      <th>3</th>\n",
       "      <td>5</td>\n",
       "      <td>1</td>\n",
       "      <td>2014-07-23 17:02:11+00:00</td>\n",
       "      <td>2014-08-07 00:00:00+00:00</td>\n",
       "      <td>Thursday</td>\n",
       "      <td>1</td>\n",
       "      <td>0</td>\n",
       "      <td>0</td>\n",
       "      <td>0</td>\n",
       "      <td>0</td>\n",
       "      <td>0</td>\n",
       "      <td>0</td>\n",
       "      <td>0</td>\n",
       "      <td>1</td>\n",
       "      <td>15</td>\n",
       "      <td>August</td>\n",
       "    </tr>\n",
       "    <tr>\n",
       "      <th>4</th>\n",
       "      <td>38</td>\n",
       "      <td>1</td>\n",
       "      <td>2015-10-21 15:20:09+00:00</td>\n",
       "      <td>2015-10-27 00:00:00+00:00</td>\n",
       "      <td>Tuesday</td>\n",
       "      <td>1</td>\n",
       "      <td>0</td>\n",
       "      <td>0</td>\n",
       "      <td>0</td>\n",
       "      <td>0</td>\n",
       "      <td>0</td>\n",
       "      <td>0</td>\n",
       "      <td>0</td>\n",
       "      <td>1</td>\n",
       "      <td>6</td>\n",
       "      <td>October</td>\n",
       "    </tr>\n",
       "  </tbody>\n",
       "</table>\n",
       "</div>"
      ],
      "text/plain": [
       "   Age  Gender   AppointmentRegistration           AppointmentData  \\\n",
       "0   19       1 2014-12-16 14:46:25+00:00 2015-01-14 00:00:00+00:00   \n",
       "1   24       0 2015-08-18 07:01:26+00:00 2015-08-19 00:00:00+00:00   \n",
       "2    4       0 2014-02-17 12:53:46+00:00 2014-02-18 00:00:00+00:00   \n",
       "3    5       1 2014-07-23 17:02:11+00:00 2014-08-07 00:00:00+00:00   \n",
       "4   38       1 2015-10-21 15:20:09+00:00 2015-10-27 00:00:00+00:00   \n",
       "\n",
       "  DayOfTheWeek  Status  Diabetes  Alchoholism  Hypertension  Handicap  Smokes  \\\n",
       "0    Wednesday       1         0            0             0         0       0   \n",
       "1    Wednesday       1         0            0             0         0       0   \n",
       "2      Tuesday       1         0            0             0         0       0   \n",
       "3     Thursday       1         0            0             0         0       0   \n",
       "4      Tuesday       1         0            0             0         0       0   \n",
       "\n",
       "   Scholarship  Tuberculosis  Sms_Reminder  AwaitingTime AppointmentMonths  \n",
       "0            0             0             0            29           January  \n",
       "1            0             0             0             1            August  \n",
       "2            0             0             0             1          February  \n",
       "3            0             0             1            15            August  \n",
       "4            0             0             1             6           October  "
      ]
     },
     "execution_count": 13,
     "metadata": {},
     "output_type": "execute_result"
    }
   ],
   "source": [
    "data.head()"
   ]
  },
  {
   "cell_type": "markdown",
   "metadata": {},
   "source": [
    "### Perform Shapiro-Wilk Test"
   ]
  },
  {
   "cell_type": "code",
   "execution_count": 29,
   "metadata": {},
   "outputs": [
    {
     "name": "stdout",
     "output_type": "stream",
     "text": [
      "Statistics=0.975, p=0.000\n",
      "Sample does not look Gaussian (reject H0)\n"
     ]
    },
    {
     "name": "stderr",
     "output_type": "stream",
     "text": [
      "C:\\Users\\lidit\\Anaconda3\\lib\\site-packages\\scipy\\stats\\morestats.py:1309: UserWarning: p-value may not be accurate for N > 5000.\n",
      "  warnings.warn(\"p-value may not be accurate for N > 5000.\")\n"
     ]
    }
   ],
   "source": [
    "\n",
    "from numpy.random import seed\n",
    "from numpy.random import randn\n",
    "from scipy.stats import shapiro\n",
    "# seed the random number generator\n",
    "seed(1)\n",
    "# generate univariate observations\n",
    "Column = data['Age']\n",
    "# normality test\n",
    "stat, p = shapiro(Column)\n",
    "print('Statistics=%.3f, p=%.3f' % (stat, p))\n",
    "# interpret\n",
    "alpha = 0.05\n",
    "\n",
    "if p > alpha:\n",
    "     print('Sample looks Gaussian (fail to reject H0)')\n",
    "else:\n",
    "     print('Sample does not look Gaussian (reject H0)')"
   ]
  },
  {
   "cell_type": "markdown",
   "metadata": {},
   "source": [
    " ### Anderson-Darling Test"
   ]
  },
  {
   "cell_type": "code",
   "execution_count": 30,
   "metadata": {},
   "outputs": [
    {
     "name": "stdout",
     "output_type": "stream",
     "text": [
      "Statistic: 1691.726\n",
      "15.000: 0.576, data does not look normal (reject H0)\n",
      "10.000: 0.656, data does not look normal (reject H0)\n",
      "5.000: 0.787, data does not look normal (reject H0)\n",
      "2.500: 0.918, data does not look normal (reject H0)\n",
      "1.000: 1.092, data does not look normal (reject H0)\n"
     ]
    }
   ],
   "source": [
    "\n",
    "from numpy.random import seed\n",
    "from numpy.random import randn\n",
    "from scipy.stats import anderson\n",
    "# seed the random number generator\n",
    "seed(1)\n",
    "\n",
    "# normality test\n",
    "result = anderson(data['Age'])\n",
    "print('Statistic: %.3f' % result.statistic)\n",
    "p = 0\n",
    "for i in range(len(result.critical_values)):\n",
    "    sl, cv = result.significance_level[i], result.critical_values[i]\n",
    "    if result.statistic < result.critical_values[i]:\n",
    "        print('%.3f: %.3f, data looks normal (fail to reject H0)' % (sl, cv))\n",
    "    else:\n",
    "        print('%.3f: %.3f, data does not look normal (reject H0)' % (sl, cv))"
   ]
  },
  {
   "cell_type": "markdown",
   "metadata": {},
   "source": [
    "### QQ Plot"
   ]
  },
  {
   "cell_type": "code",
   "execution_count": 31,
   "metadata": {},
   "outputs": [
    {
     "data": {
      "image/png": "[encoded data removed]",
      "text/plain": [
       "<Figure size 432x288 with 1 Axes>"
      ]
     },
     "metadata": {
      "needs_background": "light"
     },
     "output_type": "display_data"
    },
    {
     "data": {
      "image/png": "[encoded data removed]",
      "text/plain": [
       "<Figure size 432x288 with 1 Axes>"
      ]
     },
     "metadata": {
      "needs_background": "light"
     },
     "output_type": "display_data"
    },
    {
     "data": {
      "image/png": "[encoded data removed]",
      "text/plain": [
       "<Figure size 432x288 with 1 Axes>"
      ]
     },
     "metadata": {
      "needs_background": "light"
     },
     "output_type": "display_data"
    },
    {
     "data": {
      "image/png": "[encoded data removed]",
      "text/plain": [
       "<Figure size 432x288 with 1 Axes>"
      ]
     },
     "metadata": {
      "needs_background": "light"
     },
     "output_type": "display_data"
    },
    {
     "data": {
      "image/png": "[encoded data removed]",
      "text/plain": [
       "<Figure size 432x288 with 1 Axes>"
      ]
     },
     "metadata": {
      "needs_background": "light"
     },
     "output_type": "display_data"
    },
    {
     "data": {
      "image/png": "[encoded data removed]",
      "text/plain": [
       "<Figure size 432x288 with 1 Axes>"
      ]
     },
     "metadata": {
      "needs_background": "light"
     },
     "output_type": "display_data"
    },
    {
     "data": {
      "image/png": "[encoded data removed]",
      "text/plain": [
       "<Figure size 432x288 with 1 Axes>"
      ]
     },
     "metadata": {
      "needs_background": "light"
     },
     "output_type": "display_data"
    },
    {
     "data": {
      "image/png": "[encoded data removed]",
      "text/plain": [
       "<Figure size 432x288 with 1 Axes>"
      ]
     },
     "metadata": {
      "needs_background": "light"
     },
     "output_type": "display_data"
    },
    {
     "data": {
      "image/png": "[encoded data removed]",
      "text/plain": [
       "<Figure size 432x288 with 1 Axes>"
      ]
     },
     "metadata": {
      "needs_background": "light"
     },
     "output_type": "display_data"
    },
    {
     "data": {
      "image/png": "[encoded data removed]",
      "text/plain": [
       "<Figure size 432x288 with 1 Axes>"
      ]
     },
     "metadata": {
      "needs_background": "light"
     },
     "output_type": "display_data"
    }
   ],
   "source": [
    "\n",
    "from numpy.random import seed\n",
    "from numpy.random import randn\n",
    "from statsmodels.graphics.gofplots import qqplot\n",
    "from matplotlib import pyplot\n",
    "# seed the random number generator\n",
    "seed(1)\n",
    "\n",
    "# q-q plot\n",
    "qqplot(data['Age'], line='s')\n",
    "pyplot.show()\n",
    "qqplot(data['Diabetes'], line='s')\n",
    "pyplot.show()\n",
    "qqplot(data['Alchoholism'], line='s')\n",
    "pyplot.show()\n",
    "qqplot(data['Hypertension'], line='s')\n",
    "pyplot.show()\n",
    "qqplot(data['Handicap'], line='s')\n",
    "pyplot.show()\n",
    "qqplot(data['Smokes'], line='s')\n",
    "pyplot.show()\n",
    "qqplot(data['Scholarship'], line='s')\n",
    "pyplot.show()\n",
    "qqplot(data['Tuberculosis'], line='s')\n",
    "pyplot.show()\n",
    "qqplot(data['Sms_Reminder'], line='s')\n",
    "pyplot.show()\n",
    "qqplot(data['AwaitingTime'], line='s')\n",
    "pyplot.show()"
   ]
  },
  {
   "cell_type": "code",
   "execution_count": 32,
   "metadata": {},
   "outputs": [
    {
     "name": "stdout",
     "output_type": "stream",
     "text": [
      "(0.9748837947845459, 0.0)\n",
      "(0.3020336627960205, 0.0)\n",
      "(0.14369183778762817, 0.0)\n",
      "(0.5149232149124146, 0.0)\n",
      "(0.11473935842514038, 0.0)\n",
      "(0.23602724075317383, 0.0)\n",
      "(0.34110039472579956, 0.0)\n",
      "(0.005878150463104248, 0.0)\n",
      "(0.6438608169555664, 0.0)\n",
      "(0.7198482751846313, 0.0)\n"
     ]
    },
    {
     "name": "stderr",
     "output_type": "stream",
     "text": [
      "C:\\Users\\lidit\\Anaconda3\\lib\\site-packages\\scipy\\stats\\morestats.py:1309: UserWarning: p-value may not be accurate for N > 5000.\n",
      "  warnings.warn(\"p-value may not be accurate for N > 5000.\")\n",
      "C:\\Users\\lidit\\Anaconda3\\lib\\site-packages\\scipy\\stats\\morestats.py:1309: UserWarning: p-value may not be accurate for N > 5000.\n",
      "  warnings.warn(\"p-value may not be accurate for N > 5000.\")\n",
      "C:\\Users\\lidit\\Anaconda3\\lib\\site-packages\\scipy\\stats\\morestats.py:1309: UserWarning: p-value may not be accurate for N > 5000.\n",
      "  warnings.warn(\"p-value may not be accurate for N > 5000.\")\n",
      "C:\\Users\\lidit\\Anaconda3\\lib\\site-packages\\scipy\\stats\\morestats.py:1309: UserWarning: p-value may not be accurate for N > 5000.\n",
      "  warnings.warn(\"p-value may not be accurate for N > 5000.\")\n",
      "C:\\Users\\lidit\\Anaconda3\\lib\\site-packages\\scipy\\stats\\morestats.py:1309: UserWarning: p-value may not be accurate for N > 5000.\n",
      "  warnings.warn(\"p-value may not be accurate for N > 5000.\")\n",
      "C:\\Users\\lidit\\Anaconda3\\lib\\site-packages\\scipy\\stats\\morestats.py:1309: UserWarning: p-value may not be accurate for N > 5000.\n",
      "  warnings.warn(\"p-value may not be accurate for N > 5000.\")\n",
      "C:\\Users\\lidit\\Anaconda3\\lib\\site-packages\\scipy\\stats\\morestats.py:1309: UserWarning: p-value may not be accurate for N > 5000.\n",
      "  warnings.warn(\"p-value may not be accurate for N > 5000.\")\n",
      "C:\\Users\\lidit\\Anaconda3\\lib\\site-packages\\scipy\\stats\\morestats.py:1309: UserWarning: p-value may not be accurate for N > 5000.\n",
      "  warnings.warn(\"p-value may not be accurate for N > 5000.\")\n",
      "C:\\Users\\lidit\\Anaconda3\\lib\\site-packages\\scipy\\stats\\morestats.py:1309: UserWarning: p-value may not be accurate for N > 5000.\n",
      "  warnings.warn(\"p-value may not be accurate for N > 5000.\")\n",
      "C:\\Users\\lidit\\Anaconda3\\lib\\site-packages\\scipy\\stats\\morestats.py:1309: UserWarning: p-value may not be accurate for N > 5000.\n",
      "  warnings.warn(\"p-value may not be accurate for N > 5000.\")\n"
     ]
    }
   ],
   "source": [
    "from scipy import stats\n",
    "# Print the p values\n",
    "print (stats.shapiro(data['Age']))\n",
    "print (stats.shapiro(data['Diabetes']))\n",
    "print (stats.shapiro(data['Alchoholism']))\n",
    "print (stats.shapiro(data['Hypertension']))\n",
    "print (stats.shapiro(data['Handicap']))\n",
    "print (stats.shapiro(data['Smokes']))\n",
    "print (stats.shapiro(data['Scholarship']))\n",
    "print (stats.shapiro(data['Tuberculosis']))\n",
    "print (stats.shapiro(data['Sms_Reminder']))\n",
    "print (stats.shapiro(data['AwaitingTime']))\n"
   ]
  },
  {
   "cell_type": "code",
   "execution_count": 33,
   "metadata": {
    "scrolled": true
   },
   "outputs": [
    {
     "name": "stderr",
     "output_type": "stream",
     "text": [
      "C:\\Users\\lidit\\Anaconda3\\lib\\site-packages\\ipykernel_launcher.py:3: RuntimeWarning: divide by zero encountered in log\n",
      "  This is separate from the ipykernel package so we can avoid doing imports until\n",
      "C:\\Users\\lidit\\Anaconda3\\lib\\site-packages\\ipykernel_launcher.py:4: RuntimeWarning: divide by zero encountered in log\n",
      "  after removing the cwd from sys.path.\n",
      "C:\\Users\\lidit\\Anaconda3\\lib\\site-packages\\ipykernel_launcher.py:5: RuntimeWarning: divide by zero encountered in log\n",
      "  \"\"\"\n",
      "C:\\Users\\lidit\\Anaconda3\\lib\\site-packages\\ipykernel_launcher.py:6: RuntimeWarning: divide by zero encountered in log\n",
      "  \n",
      "C:\\Users\\lidit\\Anaconda3\\lib\\site-packages\\ipykernel_launcher.py:7: RuntimeWarning: divide by zero encountered in log\n",
      "  import sys\n",
      "C:\\Users\\lidit\\Anaconda3\\lib\\site-packages\\ipykernel_launcher.py:8: RuntimeWarning: divide by zero encountered in log\n",
      "  \n",
      "C:\\Users\\lidit\\Anaconda3\\lib\\site-packages\\ipykernel_launcher.py:9: RuntimeWarning: divide by zero encountered in log\n",
      "  if __name__ == '__main__':\n",
      "C:\\Users\\lidit\\Anaconda3\\lib\\site-packages\\ipykernel_launcher.py:10: RuntimeWarning: divide by zero encountered in log\n",
      "  # Remove the CWD from sys.path while we load stuff.\n"
     ]
    },
    {
     "data": {
      "image/png": "[encoded data removed]",
      "text/plain": [
       "<Figure size 432x288 with 1 Axes>"
      ]
     },
     "metadata": {
      "needs_background": "light"
     },
     "output_type": "display_data"
    }
   ],
   "source": [
    "#logcolumns = ['Age','Diabetes','Alchoholism','Hypertension','Handicap','Smokes','Scholarship','Tuberculosis','Sms_Reminder','AwaitingTime']\n",
    "data['log_Age'] = np.log(data['Age'])\n",
    "data['log_Diabetes'] = np.log(data['Diabetes'])\n",
    "data['log_Alchoholism'] = np.log(data['Alchoholism'])\n",
    "data['log_Hypertension'] = np.log(data['Hypertension'])\n",
    "data['log_Handicap'] = np.log(data['Handicap'])\n",
    "data['log_Smokes'] = np.log(data['Smokes'])\n",
    "data['log_Scholarship'] = np.log(data['Scholarship'])\n",
    "data['log_Tuberculosis'] = np.log(data['Tuberculosis'])\n",
    "data['log_Sms_Reminder'] = np.log(data['Sms_Reminder'])\n",
    "data['log_AwaitingTime'] = np.log(data['AwaitingTime'])\n",
    "\n",
    "\n",
    "\n",
    "#different values of lambda were tried to find best fit for qq plot for age. SQrt was better tranformation \n",
    "#than Log as it fit the QQ plt better\n",
    "from numpy.random import seed\n",
    "from numpy.random import randn\n",
    "from numpy import exp\n",
    "from scipy.stats import boxcox\n",
    "from matplotlib import pyplot\n",
    "# seed the random number generator\n",
    "seed(1)\n",
    "\n",
    "\n",
    "# power transform\n",
    "data['sqrt_Age'] = boxcox(data['Age'], 0.5)\n",
    "# histogram\n",
    "pyplot.hist(data['Age'])\n",
    "pyplot.show()\n",
    "\n",
    "\n",
    "#Awaitingtime- tried lambda values -0.5,0.5,-1 but none resulted in fitting qqplot as good as LOG (0)\n",
    "from numpy.random import seed\n",
    "from numpy.random import randn\n",
    "from numpy import exp\n",
    "from scipy.stats import boxcox\n",
    "from matplotlib import pyplot\n",
    "# seed the random number generator\n",
    "seed(1)\n",
    "\n",
    "\n",
    "# power transform\n",
    "data['sqrt_AwaitingTime'] = boxcox(data['AwaitingTime'],0.5)\n"
   ]
  },
  {
   "cell_type": "code",
   "execution_count": 34,
   "metadata": {},
   "outputs": [
    {
     "name": "stderr",
     "output_type": "stream",
     "text": [
      "C:\\Users\\lidit\\Anaconda3\\lib\\site-packages\\scipy\\stats\\_continuous_distns.py:195: RuntimeWarning: invalid value encountered in subtract\n",
      "  scale = np.sqrt(((data - loc)**2).mean())\n",
      "C:\\Users\\lidit\\Anaconda3\\lib\\site-packages\\numpy\\core\\_methods.py:117: RuntimeWarning: invalid value encountered in subtract\n",
      "  x = asanyarray(arr - arrmean)\n"
     ]
    },
    {
     "data": {
      "image/png": "[encoded data removed]",
      "text/plain": [
       "<Figure size 432x288 with 1 Axes>"
      ]
     },
     "metadata": {
      "needs_background": "light"
     },
     "output_type": "display_data"
    },
    {
     "data": {
      "image/png": "[encoded data removed]",
      "text/plain": [
       "<Figure size 432x288 with 1 Axes>"
      ]
     },
     "metadata": {
      "needs_background": "light"
     },
     "output_type": "display_data"
    },
    {
     "data": {
      "image/png": "[encoded data removed]",
      "text/plain": [
       "<Figure size 432x288 with 1 Axes>"
      ]
     },
     "metadata": {
      "needs_background": "light"
     },
     "output_type": "display_data"
    },
    {
     "data": {
      "image/png": "[encoded data removed]",
      "text/plain": [
       "<Figure size 432x288 with 1 Axes>"
      ]
     },
     "metadata": {
      "needs_background": "light"
     },
     "output_type": "display_data"
    },
    {
     "data": {
      "image/png": "[encoded data removed]",
      "text/plain": [
       "<Figure size 432x288 with 1 Axes>"
      ]
     },
     "metadata": {
      "needs_background": "light"
     },
     "output_type": "display_data"
    },
    {
     "data": {
      "image/png": "[encoded data removed]",
      "text/plain": [
       "<Figure size 432x288 with 1 Axes>"
      ]
     },
     "metadata": {
      "needs_background": "light"
     },
     "output_type": "display_data"
    },
    {
     "data": {
      "image/png": "[encoded data removed]",
      "text/plain": [
       "<Figure size 432x288 with 1 Axes>"
      ]
     },
     "metadata": {
      "needs_background": "light"
     },
     "output_type": "display_data"
    },
    {
     "data": {
      "image/png": "[encoded data removed]",
      "text/plain": [
       "<Figure size 432x288 with 1 Axes>"
      ]
     },
     "metadata": {
      "needs_background": "light"
     },
     "output_type": "display_data"
    },
    {
     "data": {
      "image/png": "[encoded data removed]",
      "text/plain": [
       "<Figure size 432x288 with 1 Axes>"
      ]
     },
     "metadata": {
      "needs_background": "light"
     },
     "output_type": "display_data"
    },
    {
     "data": {
      "image/png": "[encoded data removed]",
      "text/plain": [
       "<Figure size 432x288 with 1 Axes>"
      ]
     },
     "metadata": {
      "needs_background": "light"
     },
     "output_type": "display_data"
    }
   ],
   "source": [
    "# QQ Plot\n",
    "from numpy.random import seed\n",
    "from numpy.random import randn\n",
    "from statsmodels.graphics.gofplots import qqplot\n",
    "from matplotlib import pyplot\n",
    "# seed the random number generator\n",
    "seed(1)\n",
    "\n",
    "# q-q plot\n",
    "# not used; sqrt yielded better plot;qqplot(data['log_Age'], line='s')pyplot.show()\n",
    "qqplot(data['log_Diabetes'], line='s')\n",
    "pyplot.show()\n",
    "qqplot(data['log_Alchoholism'], line='s')\n",
    "pyplot.show()\n",
    "qqplot(data['log_Hypertension'], line='s')\n",
    "pyplot.show()\n",
    "qqplot(data['log_Handicap'], line='s')\n",
    "pyplot.show()\n",
    "qqplot(data['log_Smokes'], line='s')\n",
    "pyplot.show()\n",
    "qqplot(data['log_Scholarship'], line='s')\n",
    "pyplot.show()\n",
    "qqplot(data['log_Tuberculosis'], line='s')\n",
    "pyplot.show()\n",
    "qqplot(data['log_Sms_Reminder'], line='s')\n",
    "pyplot.show()\n",
    "qqplot(data['log_AwaitingTime'], line='s')\n",
    "pyplot.show()\n",
    "qqplot(data['sqrt_Age'], line='s')\n",
    "pyplot.show()\n",
    "#not used; LOG yielded better plot;qqplotqqplot(data['sqrt_AwaitingTime'], line='s')pyplot.show()\n"
   ]
  },
  {
   "cell_type": "code",
   "execution_count": 35,
   "metadata": {},
   "outputs": [
    {
     "name": "stderr",
     "output_type": "stream",
     "text": [
      "C:\\Users\\lidit\\Anaconda3\\lib\\site-packages\\scipy\\stats\\morestats.py:1309: UserWarning: p-value may not be accurate for N > 5000.\n",
      "  warnings.warn(\"p-value may not be accurate for N > 5000.\")\n",
      "C:\\Users\\lidit\\Anaconda3\\lib\\site-packages\\scipy\\stats\\morestats.py:1309: UserWarning: p-value may not be accurate for N > 5000.\n",
      "  warnings.warn(\"p-value may not be accurate for N > 5000.\")\n",
      "C:\\Users\\lidit\\Anaconda3\\lib\\site-packages\\scipy\\stats\\morestats.py:1309: UserWarning: p-value may not be accurate for N > 5000.\n",
      "  warnings.warn(\"p-value may not be accurate for N > 5000.\")\n",
      "C:\\Users\\lidit\\Anaconda3\\lib\\site-packages\\scipy\\stats\\morestats.py:1309: UserWarning: p-value may not be accurate for N > 5000.\n",
      "  warnings.warn(\"p-value may not be accurate for N > 5000.\")\n",
      "C:\\Users\\lidit\\Anaconda3\\lib\\site-packages\\scipy\\stats\\morestats.py:1309: UserWarning: p-value may not be accurate for N > 5000.\n",
      "  warnings.warn(\"p-value may not be accurate for N > 5000.\")\n",
      "C:\\Users\\lidit\\Anaconda3\\lib\\site-packages\\scipy\\stats\\morestats.py:1309: UserWarning: p-value may not be accurate for N > 5000.\n",
      "  warnings.warn(\"p-value may not be accurate for N > 5000.\")\n",
      "C:\\Users\\lidit\\Anaconda3\\lib\\site-packages\\scipy\\stats\\morestats.py:1309: UserWarning: p-value may not be accurate for N > 5000.\n",
      "  warnings.warn(\"p-value may not be accurate for N > 5000.\")\n",
      "C:\\Users\\lidit\\Anaconda3\\lib\\site-packages\\scipy\\stats\\morestats.py:1309: UserWarning: p-value may not be accurate for N > 5000.\n",
      "  warnings.warn(\"p-value may not be accurate for N > 5000.\")\n",
      "C:\\Users\\lidit\\Anaconda3\\lib\\site-packages\\scipy\\stats\\morestats.py:1309: UserWarning: p-value may not be accurate for N > 5000.\n",
      "  warnings.warn(\"p-value may not be accurate for N > 5000.\")\n"
     ]
    },
    {
     "name": "stdout",
     "output_type": "stream",
     "text": [
      "(0.8507645130157471, 0.0)\n",
      "(nan, 1.0)\n",
      "(nan, 1.0)\n",
      "(nan, 1.0)\n",
      "(nan, 1.0)\n",
      "(nan, 1.0)\n",
      "(nan, 1.0)\n",
      "(nan, 1.0)\n",
      "(nan, 1.0)\n",
      "(0.965478241443634, 0.0)\n",
      "(0.9623261094093323, 0.0)\n"
     ]
    },
    {
     "name": "stderr",
     "output_type": "stream",
     "text": [
      "C:\\Users\\lidit\\Anaconda3\\lib\\site-packages\\scipy\\stats\\morestats.py:1309: UserWarning: p-value may not be accurate for N > 5000.\n",
      "  warnings.warn(\"p-value may not be accurate for N > 5000.\")\n",
      "C:\\Users\\lidit\\Anaconda3\\lib\\site-packages\\scipy\\stats\\morestats.py:1309: UserWarning: p-value may not be accurate for N > 5000.\n",
      "  warnings.warn(\"p-value may not be accurate for N > 5000.\")\n"
     ]
    }
   ],
   "source": [
    "from scipy import stats\n",
    "# Print the p values\n",
    "print (stats.shapiro(data['log_Age']))\n",
    "print (stats.shapiro(data['log_Diabetes']))\n",
    "print (stats.shapiro(data['log_Alchoholism']))\n",
    "print (stats.shapiro(data['log_Hypertension']))\n",
    "print (stats.shapiro(data['log_Handicap']))\n",
    "print (stats.shapiro(data['log_Smokes']))\n",
    "print (stats.shapiro(data['log_Scholarship']))\n",
    "print (stats.shapiro(data['log_Tuberculosis']))\n",
    "print (stats.shapiro(data['log_Sms_Reminder']))\n",
    "print (stats.shapiro(data['log_AwaitingTime']))\n",
    "print (stats.shapiro(data['sqrt_Age']))"
   ]
  },
  {
   "cell_type": "code",
   "execution_count": 14,
   "metadata": {},
   "outputs": [
    {
     "data": {
      "text/plain": [
       "Age                        0\n",
       "Gender                     0\n",
       "AppointmentRegistration    0\n",
       "AppointmentData            0\n",
       "DayOfTheWeek               0\n",
       "Status                     0\n",
       "Diabetes                   0\n",
       "Alchoholism                0\n",
       "Hypertension               0\n",
       "Handicap                   0\n",
       "Smokes                     0\n",
       "Scholarship                0\n",
       "Tuberculosis               0\n",
       "Sms_Reminder               0\n",
       "AwaitingTime               0\n",
       "AppointmentMonths          0\n",
       "dtype: int64"
      ]
     },
     "execution_count": 14,
     "metadata": {},
     "output_type": "execute_result"
    }
   ],
   "source": [
    "#checked for missing data \n",
    "data.isnull().sum()"
   ]
  },
  {
   "cell_type": "code",
   "execution_count": 15,
   "metadata": {},
   "outputs": [],
   "source": [
    "##Dummy code the Day and Month Variable\n",
    "\n",
    "from sklearn.model_selection import cross_validate\n",
    "y = data.Status\n",
    "X = data.drop(columns=['Status', 'AppointmentRegistration', 'AppointmentData'], axis=1)\n",
    "X=pd.get_dummies(X, columns=['DayOfTheWeek', 'AppointmentMonths'], prefix=['DayOfTheWeek', 'AppointmentMonths'])\n",
    "\n",
    "\n"
   ]
  },
  {
   "cell_type": "code",
   "execution_count": 16,
   "metadata": {},
   "outputs": [],
   "source": [
    "##Removing multicollinearity\n",
    "\n",
    "X = X.drop(columns=['DayOfTheWeek_Sunday', 'AppointmentMonths_January'], axis=1)"
   ]
  },
  {
   "cell_type": "code",
   "execution_count": 17,
   "metadata": {},
   "outputs": [
    {
     "data": {
      "text/plain": [
       "Age                            0\n",
       "Gender                         0\n",
       "Diabetes                       0\n",
       "Alchoholism                    0\n",
       "Hypertension                   0\n",
       "Handicap                       0\n",
       "Smokes                         0\n",
       "Scholarship                    0\n",
       "Tuberculosis                   0\n",
       "Sms_Reminder                   0\n",
       "AwaitingTime                   0\n",
       "DayOfTheWeek_Friday            0\n",
       "DayOfTheWeek_Monday            0\n",
       "DayOfTheWeek_Saturday          0\n",
       "DayOfTheWeek_Thursday          0\n",
       "DayOfTheWeek_Tuesday           0\n",
       "DayOfTheWeek_Wednesday         0\n",
       "AppointmentMonths_April        0\n",
       "AppointmentMonths_August       0\n",
       "AppointmentMonths_December     0\n",
       "AppointmentMonths_February     0\n",
       "AppointmentMonths_July         0\n",
       "AppointmentMonths_June         0\n",
       "AppointmentMonths_March        0\n",
       "AppointmentMonths_May          0\n",
       "AppointmentMonths_November     0\n",
       "AppointmentMonths_October      0\n",
       "AppointmentMonths_September    0\n",
       "dtype: int64"
      ]
     },
     "execution_count": 17,
     "metadata": {},
     "output_type": "execute_result"
    }
   ],
   "source": [
    "#checked for missing data \n",
    "X.isnull().sum()"
   ]
  },
  {
   "cell_type": "code",
   "execution_count": 18,
   "metadata": {},
   "outputs": [
    {
     "name": "stderr",
     "output_type": "stream",
     "text": [
      "C:\\Users\\neefi\\Anaconda3\\lib\\site-packages\\sklearn\\model_selection\\_split.py:2179: FutureWarning: From version 0.21, test_size will always complement train_size unless both are specified.\n",
      "  FutureWarning)\n"
     ]
    }
   ],
   "source": [
    "##Split into train, test, and validate\n",
    "\n",
    "X_trainval, X_test, y_trainval, y_test = train_test_split(X, y,train_size=0.8)\n",
    "\n",
    "\n",
    "#splitting data into 60% as train/20% as test/20% as validate\n",
    "X_validate, X_train, y_validate, y_train  = train_test_split(X_trainval, y_trainval, train_size=0.25)"
   ]
  },
  {
   "cell_type": "code",
   "execution_count": 19,
   "metadata": {
    "scrolled": true
   },
   "outputs": [
    {
     "name": "stdout",
     "output_type": "stream",
     "text": [
      "(57927, 28)\n",
      "(57926, 28)\n",
      "(173778, 28)\n"
     ]
    }
   ],
   "source": [
    "#Shape of train/test/Validate data\n",
    "print(X_test.shape)\n",
    "print(X_validate.shape)\n",
    "print(X_train.shape)"
   ]
  },
  {
   "cell_type": "code",
   "execution_count": 21,
   "metadata": {},
   "outputs": [
    {
     "name": "stderr",
     "output_type": "stream",
     "text": [
      "C:\\Users\\neefi\\Anaconda3\\lib\\site-packages\\sklearn\\preprocessing\\data.py:334: DataConversionWarning: Data with input dtype uint8, int64 were all converted to float64 by MinMaxScaler.\n",
      "  return self.partial_fit(X, y)\n",
      "C:\\Users\\neefi\\Anaconda3\\lib\\site-packages\\sklearn\\preprocessing\\data.py:334: DataConversionWarning: Data with input dtype uint8, int64 were all converted to float64 by MinMaxScaler.\n",
      "  return self.partial_fit(X, y)\n",
      "C:\\Users\\neefi\\Anaconda3\\lib\\site-packages\\sklearn\\preprocessing\\data.py:334: DataConversionWarning: Data with input dtype uint8, int64 were all converted to float64 by MinMaxScaler.\n",
      "  return self.partial_fit(X, y)\n",
      "C:\\Users\\neefi\\Anaconda3\\lib\\site-packages\\sklearn\\preprocessing\\data.py:334: DataConversionWarning: Data with input dtype uint8, int64 were all converted to float64 by MinMaxScaler.\n",
      "  return self.partial_fit(X, y)\n",
      "C:\\Users\\neefi\\Anaconda3\\lib\\site-packages\\sklearn\\preprocessing\\data.py:334: DataConversionWarning: Data with input dtype uint8, int64 were all converted to float64 by MinMaxScaler.\n",
      "  return self.partial_fit(X, y)\n"
     ]
    }
   ],
   "source": [
    "##Scaler transformation of the x variables\n",
    "\n",
    "from sklearn.preprocessing import MinMaxScaler\n",
    "scaler=MinMaxScaler()\n",
    "scaler.fit(X_train)\n",
    "X_train_scale=scaler.fit_transform(X_train)\n",
    "X_trainval_scale=scaler.fit_transform(X_trainval)\n",
    "X_validate_scale=scaler.fit_transform(X_validate)\n",
    "X_test_scale=scaler.fit_transform(X_test)"
   ]
  },
  {
   "cell_type": "code",
   "execution_count": 22,
   "metadata": {},
   "outputs": [
    {
     "data": {
      "text/plain": [
       "DescribeResult(nobs=173778, minmax=(array([0., 0., 0., 0., 0., 0., 0., 0., 0., 0., 0., 0., 0., 0., 0., 0., 0.,\n",
       "       0., 0., 0., 0., 0., 0., 0., 0., 0., 0., 0.]), array([1., 1., 1., 1., 1., 1., 1., 1., 1., 1., 1., 1., 1., 1., 1., 1., 1.,\n",
       "       1., 1., 1., 1., 1., 1., 1., 1., 1., 1., 1.])), mean=array([0.38868175, 0.32615751, 0.08030361, 0.02566493, 0.22233539,\n",
       "       0.01036955, 0.05455811, 0.09972494, 0.00043159, 0.28778672,\n",
       "       0.03226351, 0.17714555, 0.19764872, 0.00471291, 0.19963402,\n",
       "       0.20945114, 0.21139039, 0.0794577 , 0.08719746, 0.07563098,\n",
       "       0.07572305, 0.09100116, 0.08588544, 0.08174798, 0.08647815,\n",
       "       0.08417061, 0.09052354, 0.08574733]), variance=array([0.05058669, 0.21978005, 0.07385536, 0.02500638, 0.17290336,\n",
       "       0.00598073, 0.05158182, 0.08978039, 0.0004314 , 0.06239317,\n",
       "       0.00156678, 0.14576585, 0.15858462, 0.00469073, 0.15978119,\n",
       "       0.16558231, 0.16670545, 0.07314459, 0.07959452, 0.06991134,\n",
       "       0.06998947, 0.08272043, 0.07850958, 0.07506568, 0.07900013,\n",
       "       0.07708636, 0.0823295 , 0.07839518]), skewness=array([ 0.08484556,  0.74163982,  3.08869816,  5.99916812,  1.33551894,\n",
       "        8.1302871 ,  3.92259935,  2.6717698 , 48.10447413, -0.24220066,\n",
       "        3.80536638,  1.69125904,  1.51849204, 14.46332899,  1.5028622 ,\n",
       "        1.42805012,  1.4137321 ,  3.10992428,  2.92638878,  3.2099711 ,\n",
       "        3.20748273,  2.84411358,  2.95590458,  3.05315316,  2.9424954 ,\n",
       "        2.99541953,  2.85418707,  2.95904712]), kurtosis=array([-9.21782335e-01, -1.44997038e+00,  7.54005630e+00,  3.39900181e+01,\n",
       "       -2.16389159e-01,  7.29710040e+01,  1.33867857e+01,  5.13835386e+00,\n",
       "        2.31204043e+03, -1.77580474e+00,  3.76294922e+01,  8.60357124e-01,\n",
       "        3.05818075e-01,  2.07187885e+02,  2.58594790e-01,  3.93271590e-02,\n",
       "       -1.36153598e-03,  7.67162905e+00,  6.56375130e+00,  8.30391444e+00,\n",
       "        8.28794549e+00,  6.08898204e+00,  6.73737187e+00,  7.32174421e+00,\n",
       "        6.65827915e+00,  6.97253814e+00,  6.14638385e+00,  6.75595986e+00]))"
      ]
     },
     "execution_count": 22,
     "metadata": {},
     "output_type": "execute_result"
    }
   ],
   "source": [
    "###Checking Scaling\n",
    "\n",
    "from scipy import stats\n",
    "stats.describe(X_train_scale)\n"
   ]
  },
  {
   "cell_type": "code",
   "execution_count": 31,
   "metadata": {},
   "outputs": [
    {
     "name": "stderr",
     "output_type": "stream",
     "text": [
      "Using TensorFlow backend.\n"
     ]
    }
   ],
   "source": [
    "import numpy as np\n",
    "import pandas as pd\n",
    "import tensorflow as tf\n",
    "import matplotlib.pyplot as plt\n",
    "from keras.models import Sequential\n",
    "from keras.layers import Dense\n",
    "from keras.layers import Dropout\n",
    "from keras.wrappers.scikit_learn import KerasClassifier\n",
    "from keras.constraints import maxnorm\n",
    "from keras.optimizers import SGD\n",
    "from sklearn.model_selection import cross_val_score\n",
    "from sklearn.preprocessing import LabelEncoder\n",
    "from sklearn.model_selection import StratifiedKFold\n",
    "from sklearn.preprocessing import MinMaxScaler\n",
    "from sklearn.pipeline import Pipeline"
   ]
  },
  {
   "cell_type": "code",
   "execution_count": 39,
   "metadata": {},
   "outputs": [],
   "source": [
    "##Changing to an array for Keras\n",
    "\n",
    "x_trainval2 = np.array(X_trainval_scale).astype(float)\n",
    "y_trainval2 = np.array(y_trainval)\n",
    "x_test2 = np.array(X_test_scale).astype(float)\n",
    "y_test2 = np.array(y_test)"
   ]
  },
  {
   "cell_type": "code",
   "execution_count": 40,
   "metadata": {},
   "outputs": [
    {
     "name": "stdout",
     "output_type": "stream",
     "text": [
      "Train on 173778 samples, validate on 57926 samples\n",
      "Epoch 1/5\n",
      " - 67s - loss: 0.6143 - acc: 0.6962 - val_loss: 0.6121 - val_acc: 0.6984\n",
      "Epoch 2/5\n",
      " - 68s - loss: 0.6140 - acc: 0.6962 - val_loss: 0.6121 - val_acc: 0.6984\n",
      "Epoch 3/5\n",
      " - 64s - loss: 0.6140 - acc: 0.6962 - val_loss: 0.6120 - val_acc: 0.6984\n",
      "Epoch 4/5\n",
      " - 65s - loss: 0.6139 - acc: 0.6962 - val_loss: 0.6120 - val_acc: 0.6984\n",
      "Epoch 5/5\n",
      " - 67s - loss: 0.6140 - acc: 0.6962 - val_loss: 0.6120 - val_acc: 0.6984\n"
     ]
    }
   ],
   "source": [
    "# Very Deep Neural Network\n",
    "model = Sequential()\n",
    "model.add(Dense(800, activation='relu'))\n",
    "model.add(Dense(720, activation='relu'))\n",
    "model.add(Dropout(0.025))\n",
    "model.add(Dense(640, activation='relu'))\n",
    "model.add(Dense(560, activation='relu'))\n",
    "model.add(Dropout(0.025))\n",
    "model.add(Dense(480, activation='relu'))\n",
    "model.add(Dense(400, activation='relu'))\n",
    "model.add(Dropout(0.025))\n",
    "model.add(Dense(320, activation='relu'))\n",
    "model.add(Dense(240, activation='relu'))\n",
    "model.add(Dropout(0.025))\n",
    "model.add(Dense(160, activation='relu'))\n",
    "model.add(Dense(128, activation='relu'))\n",
    "model.add(Dropout(0.025))\n",
    "model.add(Dense(96, activation='relu'))\n",
    "model.add(Dense(80, activation='relu'))\n",
    "model.add(Dropout(0.025))\n",
    "model.add(Dense(48, activation='relu'))\n",
    "model.add(Dense(32, activation='relu'))\n",
    "model.add(Dropout(0.025))\n",
    "model.add(Dense(16, activation='relu'))\n",
    "model.add(Dropout(0.025))\n",
    "model.add(Dense(1, activation='sigmoid'))\n",
    "\n",
    "# Compile\n",
    "epochs = 5\n",
    "learning_rate = 0.1\n",
    "decay_rate = learning_rate / epochs\n",
    "momentum = 0.8\n",
    "sgd = SGD(lr=learning_rate, momentum=momentum, decay=decay_rate, nesterov=False)\n",
    "model.compile(loss='binary_crossentropy', optimizer=sgd, metrics=['accuracy'])\n",
    "\n",
    "# Fit the model\n",
    "history = model.fit(x_trainval2, y_trainval2, validation_split=0.25, epochs=epochs, batch_size=64, verbose=2)"
   ]
  },
  {
   "cell_type": "code",
   "execution_count": 41,
   "metadata": {},
   "outputs": [
    {
     "data": {
      "text/plain": [
       "Text(0.5, 0, 'epoch')"
      ]
     },
     "execution_count": 41,
     "metadata": {},
     "output_type": "execute_result"
    },
    {
     "data": {
      "image/png": "[encoded data removed]",
      "text/plain": [
       "<Figure size 432x288 with 1 Axes>"
      ]
     },
     "metadata": {
      "needs_background": "light"
     },
     "output_type": "display_data"
    }
   ],
   "source": [
    "# Summarize history for accuracy\n",
    "plt.plot(history.history['acc'])\n",
    "plt.plot(history.history['val_acc'])\n",
    "plt.title('model accuracy')\n",
    "plt.ylabel('accuracy')\n",
    "plt.xlabel('epoch')"
   ]
  },
  {
   "cell_type": "code",
   "execution_count": 42,
   "metadata": {},
   "outputs": [
    {
     "data": {
      "text/plain": [
       "Text(0.5, 0, 'epoch')"
      ]
     },
     "execution_count": 42,
     "metadata": {},
     "output_type": "execute_result"
    },
    {
     "data": {
      "image/png": "[encoded data removed]",
      "text/plain": [
       "<Figure size 432x288 with 1 Axes>"
      ]
     },
     "metadata": {
      "needs_background": "light"
     },
     "output_type": "display_data"
    }
   ],
   "source": [
    "# Summarize history for loss\n",
    "plt.plot(history.history['loss'])\n",
    "plt.plot(history.history['val_loss'])\n",
    "plt.title('model loss')\n",
    "plt.ylabel('loss')\n",
    "plt.xlabel('epoch')"
   ]
  },
  {
   "cell_type": "code",
   "execution_count": 43,
   "metadata": {},
   "outputs": [
    {
     "name": "stdout",
     "output_type": "stream",
     "text": [
      "57927/57927 [==============================] - 4s 70us/step\n",
      "Test set\n",
      "  Loss: 0.613\n",
      "  Accuracy: 0.698\n"
     ]
    }
   ],
   "source": [
    "##NNET Test Prediction\n",
    "\n",
    "accrsig = model.evaluate(x_test2,y_test2)\n",
    "print('Test set\\n  Loss: {:0.3f}\\n  Accuracy: {:0.3f}'.format(accrsig[0],accrsig[1]))"
   ]
  },
  {
   "cell_type": "code",
   "execution_count": 44,
   "metadata": {},
   "outputs": [],
   "source": [
    "# predict probabilities for test set\n",
    "yhat_probs = model.predict(x_test2, verbose=0)\n",
    "# predict classes for test set\n",
    "yhat_classes = model.predict_classes(x_test2, verbose=0)"
   ]
  },
  {
   "cell_type": "code",
   "execution_count": 45,
   "metadata": {},
   "outputs": [],
   "source": [
    "#from https://www.aiproblog.com/index.php/2019/03/28/how-to-calculate-precision-recall-f1-and-more-for-deep-learning-models/\n",
    "# reduce to 1d array\n",
    "yhat_probs = yhat_probs[:, 0]\n",
    "yhat_classes = yhat_classes[:, 0]"
   ]
  },
  {
   "cell_type": "code",
   "execution_count": 46,
   "metadata": {},
   "outputs": [
    {
     "name": "stdout",
     "output_type": "stream",
     "text": [
      "              precision    recall  f1-score   support\n",
      "\n",
      "           0       0.00      0.00      0.00     17509\n",
      "           1       0.70      1.00      0.82     40418\n",
      "\n",
      "   micro avg       0.70      0.70      0.70     57927\n",
      "   macro avg       0.35      0.50      0.41     57927\n",
      "weighted avg       0.49      0.70      0.57     57927\n",
      "\n"
     ]
    },
    {
     "name": "stderr",
     "output_type": "stream",
     "text": [
      "C:\\Users\\neefi\\Anaconda3\\lib\\site-packages\\sklearn\\metrics\\classification.py:1143: UndefinedMetricWarning: Precision and F-score are ill-defined and being set to 0.0 in labels with no predicted samples.\n",
      "  'precision', 'predicted', average, warn_for)\n",
      "C:\\Users\\neefi\\Anaconda3\\lib\\site-packages\\sklearn\\metrics\\classification.py:1143: UndefinedMetricWarning: Precision and F-score are ill-defined and being set to 0.0 in labels with no predicted samples.\n",
      "  'precision', 'predicted', average, warn_for)\n",
      "C:\\Users\\neefi\\Anaconda3\\lib\\site-packages\\sklearn\\metrics\\classification.py:1143: UndefinedMetricWarning: Precision and F-score are ill-defined and being set to 0.0 in labels with no predicted samples.\n",
      "  'precision', 'predicted', average, warn_for)\n"
     ]
    }
   ],
   "source": [
    "##Classification Report\n",
    "\n",
    "from sklearn.metrics import classification_report\n",
    "\n",
    "\n",
    "print(classification_report(y_test2, yhat_classes))"
   ]
  },
  {
   "cell_type": "code",
   "execution_count": 96,
   "metadata": {},
   "outputs": [
    {
     "name": "stdout",
     "output_type": "stream",
     "text": [
      "Best score on validation set: 0.70\n",
      "Best paramters:  {'max_depth': 2}\n",
      "Test set score with best parameters: 0.69\n"
     ]
    }
   ],
   "source": [
    "##Decision Tree\n",
    "\n",
    "from sklearn.tree import DecisionTreeClassifier\n",
    "\n",
    "best_score=0\n",
    "\n",
    "for max_depth in [2, 3, 4, 5, 6, 7, 8, 9, 10]:\n",
    "    tree=DecisionTreeClassifier(max_depth=max_depth, random_state=0)\n",
    "    tree.fit(X_train_scale, y_train)\n",
    "    score=tree.score(X_validate_scale, y_validate)\n",
    "    if score > best_score:\n",
    "        best_score = score\n",
    "        best_parameters= {'max_depth': max_depth}\n",
    "            \n",
    "tree= DecisionTreeClassifier(**best_parameters)\n",
    "tree.fit(X_trainval_scale, y_trainval)\n",
    "test_score=tree.score(X_test_scale, y_test)\n",
    "print(\"Best score on validation set: {:.2f}\".format(best_score))\n",
    "print(\"Best paramters: \", best_parameters)\n",
    "print(\"Test set score with best parameters: {:.2f}\".format(test_score))\n"
   ]
  },
  {
   "cell_type": "code",
   "execution_count": 97,
   "metadata": {},
   "outputs": [
    {
     "data": {
      "image/png": "[encoded data removed]",
      "text/plain": [
       "<Figure size 432x288 with 1 Axes>"
      ]
     },
     "metadata": {
      "needs_background": "light"
     },
     "output_type": "display_data"
    }
   ],
   "source": [
    "def plot_features_importances(model):\n",
    "    n_features=X_train.shape[1]\n",
    "    feature_names=list(X_train)\n",
    "    plt.barh(np.arange(n_features), model.feature_importances_, align='center')\n",
    "    plt.yticks(np.arange(n_features), feature_names)\n",
    "    plt.xlabel(\"Feature importance\")\n",
    "    plt.ylabel(\"Feature\")\n",
    "    plt.ylim(-1, n_features)\n",
    "    \n",
    "plot_features_importances(tree)"
   ]
  },
  {
   "cell_type": "code",
   "execution_count": 98,
   "metadata": {},
   "outputs": [
    {
     "name": "stdout",
     "output_type": "stream",
     "text": [
      "[[    0 17669]\n",
      " [    0 40258]]\n"
     ]
    }
   ],
   "source": [
    "##Confusion Matrix\n",
    "\n",
    "from sklearn.metrics import confusion_matrix\n",
    "\n",
    "pred_tree=tree.predict(X_test_scale)\n",
    "print(confusion_matrix(y_test, pred_tree))"
   ]
  },
  {
   "cell_type": "code",
   "execution_count": 99,
   "metadata": {},
   "outputs": [
    {
     "name": "stdout",
     "output_type": "stream",
     "text": [
      "              precision    recall  f1-score   support\n",
      "\n",
      "           0       0.00      0.00      0.00     17669\n",
      "           1       0.69      1.00      0.82     40258\n",
      "\n",
      "   micro avg       0.69      0.69      0.69     57927\n",
      "   macro avg       0.35      0.50      0.41     57927\n",
      "weighted avg       0.48      0.69      0.57     57927\n",
      "\n"
     ]
    },
    {
     "name": "stderr",
     "output_type": "stream",
     "text": [
      "C:\\Users\\neefi\\Anaconda3\\lib\\site-packages\\sklearn\\metrics\\classification.py:1143: UndefinedMetricWarning: Precision and F-score are ill-defined and being set to 0.0 in labels with no predicted samples.\n",
      "  'precision', 'predicted', average, warn_for)\n",
      "C:\\Users\\neefi\\Anaconda3\\lib\\site-packages\\sklearn\\metrics\\classification.py:1143: UndefinedMetricWarning: Precision and F-score are ill-defined and being set to 0.0 in labels with no predicted samples.\n",
      "  'precision', 'predicted', average, warn_for)\n",
      "C:\\Users\\neefi\\Anaconda3\\lib\\site-packages\\sklearn\\metrics\\classification.py:1143: UndefinedMetricWarning: Precision and F-score are ill-defined and being set to 0.0 in labels with no predicted samples.\n",
      "  'precision', 'predicted', average, warn_for)\n"
     ]
    }
   ],
   "source": [
    "##Classification Report\n",
    "\n",
    "from sklearn.metrics import classification_report\n",
    "\n",
    "\n",
    "print(classification_report(y_test, pred_tree))"
   ]
  },
  {
   "cell_type": "code",
   "execution_count": 88,
   "metadata": {},
   "outputs": [
    {
     "name": "stdout",
     "output_type": "stream",
     "text": [
      "Best score on validation set: 0.70\n",
      "Best paramters:  {'max_depth': 8, 'n_estimators': 10}\n",
      "Test set score with best parameters: 0.70\n"
     ]
    }
   ],
   "source": [
    "##Random Forest\n",
    "\n",
    "from sklearn.ensemble import RandomForestClassifier\n",
    "\n",
    "best_score=0\n",
    "\n",
    "for max_depth in [2, 3, 4, 5, 6, 7, 8, 9, 10]:\n",
    "    for n_estimators in [10, 100, 1000, 10000]:\n",
    "        forest=RandomForestClassifier(n_estimators=n_estimators, max_depth=max_depth, random_state=0)\n",
    "        forest.fit(X_train_scale, y_train)\n",
    "        score=forest.score(X_validate_scale, y_validate)\n",
    "        if score > best_score:\n",
    "            best_score = score\n",
    "            best_parameters= {'max_depth': max_depth, 'n_estimators': n_estimators}\n",
    "            \n",
    "forest=RandomForestClassifier(**best_parameters)\n",
    "forest.fit(X_trainval_scale, y_trainval)\n",
    "test_score=forest.score(X_test_scale, y_test)\n",
    "print(\"Best score on validation set: {:.2f}\".format(best_score))\n",
    "print(\"Best paramters: \", best_parameters)\n",
    "print(\"Test set score with best parameters: {:.2f}\".format(test_score))"
   ]
  },
  {
   "cell_type": "code",
   "execution_count": 89,
   "metadata": {},
   "outputs": [
    {
     "data": {
      "image/png": "[encoded data removed]",
      "text/plain": [
       "<Figure size 432x288 with 1 Axes>"
      ]
     },
     "metadata": {
      "needs_background": "light"
     },
     "output_type": "display_data"
    }
   ],
   "source": [
    "def plot_features_importances(model):\n",
    "    n_features=X_train.shape[1]\n",
    "    feature_names=list(X_train)\n",
    "    plt.barh(np.arange(n_features), model.feature_importances_, align='center')\n",
    "    plt.yticks(np.arange(n_features), feature_names)\n",
    "    plt.xlabel(\"Feature importance\")\n",
    "    plt.ylabel(\"Feature\")\n",
    "    plt.ylim(-1, n_features)\n",
    "\n",
    "plot_features_importances(forest)"
   ]
  },
  {
   "cell_type": "code",
   "execution_count": 90,
   "metadata": {},
   "outputs": [
    {
     "name": "stdout",
     "output_type": "stream",
     "text": [
      "[[   30 17639]\n",
      " [   22 40236]]\n"
     ]
    }
   ],
   "source": [
    "##Confusion Matrix\n",
    "\n",
    "from sklearn.metrics import confusion_matrix\n",
    "\n",
    "pred_forest=forest.predict(X_test_scale)\n",
    "print(confusion_matrix(y_test, pred_forest))"
   ]
  },
  {
   "cell_type": "code",
   "execution_count": 91,
   "metadata": {},
   "outputs": [
    {
     "name": "stdout",
     "output_type": "stream",
     "text": [
      "              precision    recall  f1-score   support\n",
      "\n",
      "           0       0.58      0.00      0.00     17669\n",
      "           1       0.70      1.00      0.82     40258\n",
      "\n",
      "   micro avg       0.70      0.70      0.70     57927\n",
      "   macro avg       0.64      0.50      0.41     57927\n",
      "weighted avg       0.66      0.70      0.57     57927\n",
      "\n"
     ]
    }
   ],
   "source": [
    "##Classification Report\n",
    "\n",
    "from sklearn.metrics import classification_report\n",
    "\n",
    "\n",
    "print(classification_report(y_test, pred_forest))"
   ]
  },
  {
   "cell_type": "code",
   "execution_count": 95,
   "metadata": {},
   "outputs": [
    {
     "data": {
      "text/plain": [
       "<matplotlib.legend.Legend at 0x213e2c2e860>"
      ]
     },
     "execution_count": 95,
     "metadata": {},
     "output_type": "execute_result"
    },
    {
     "data": {
      "image/png": "[encoded data removed]",
      "text/plain": [
       "<Figure size 432x288 with 1 Axes>"
      ]
     },
     "metadata": {
      "needs_background": "light"
     },
     "output_type": "display_data"
    }
   ],
   "source": [
    "from sklearn.ensemble import RandomForestClassifier\n",
    "\n",
    "precision_rf, recall_rf, thresholds_rf = precision_recall_curve(y_test, forest.predict_proba(X_test_scale)[:, 1])\n",
    "\n",
    "plt.plot(precision_rf, recall_rf, label=\"rf\")\n",
    "\n",
    "close_default_rf = np.argmin(np.abs(thresholds_rf - 0.5))\n",
    "plt.plot(precision_rf[close_default_rf], recall_rf[close_default_rf], '^', c='k', markersize=10, label=\"threshold 0.5 rf\", fillstyle=\"none\", mew=2)\n",
    "plt.xlabel(\"Precision\")\n",
    "plt.ylabel(\"Recall\")\n",
    "plt.legend(loc=\"best\")"
   ]
  },
  {
   "cell_type": "code",
   "execution_count": 23,
   "metadata": {
    "scrolled": false
   },
   "outputs": [
    {
     "name": "stdout",
     "output_type": "stream",
     "text": [
      "0.6965093395021233\n",
      "0.6965093395021233\n",
      "0.6965093395021233\n",
      "0.6965093395021233\n",
      "0.6965093395021233\n",
      "0.6965093395021233\n",
      "0.6965093395021233\n",
      "0.6965093395021233\n",
      "0.6965093395021233\n",
      "0.6965093395021233\n",
      "0.6965093395021233\n",
      "0.6965093395021233\n",
      "0.6965093395021233\n",
      "0.6965093395021233\n",
      "0.6965093395021233\n",
      "0.6965093395021233\n",
      "0.6965093395021233\n",
      "0.6965093395021233\n",
      "0.6965093395021233\n",
      "0.6965093395021233\n",
      "0.6965093395021233\n",
      "0.6965093395021233\n",
      "0.6965093395021233\n",
      "0.6965093395021233\n",
      "0.6965093395021233\n",
      "0.6965093395021233\n",
      "0.6965093395021233\n",
      "0.6965093395021233\n",
      "0.6965093395021233\n",
      "0.6965093395021233\n",
      "0.6965093395021233\n",
      "0.6965093395021233\n",
      "0.6965093395021233\n",
      "0.6965093395021233\n",
      "0.6965093395021233\n",
      "0.6965093395021233\n",
      "0.6965093395021233\n",
      "0.6965093395021233\n",
      "0.6965611297172254\n",
      "0.6965093395021233\n",
      "0.6965093395021233\n",
      "0.6965611297172254\n",
      "0.6965093395021233\n",
      "0.6965093395021233\n",
      "0.6965611297172254\n",
      "0.6965093395021233\n",
      "0.6965093395021233\n",
      "0.6966301833373615\n",
      "0.6965093395021233\n",
      "0.6965093395021233\n",
      "0.6966301833373615\n",
      "0.6965093395021233\n",
      "0.6965093395021233\n",
      "0.6966301833373615\n",
      "0.6965093395021233\n",
      "0.6965093395021233\n",
      "0.6966301833373615\n",
      "0.6965093395021233\n",
      "0.6965093395021233\n",
      "0.6966474467423954\n",
      "0.6965093395021233\n",
      "0.6965093395021233\n",
      "0.6966647101474295\n",
      "0.6965093395021233\n",
      "0.6965093395021233\n",
      "0.6966647101474295\n",
      "0.6965093395021233\n",
      "0.6965093395021233\n",
      "0.6966647101474295\n",
      "0.6965093395021233\n",
      "0.6965093395021233\n",
      "0.6966129199323274\n",
      "0.6965093395021233\n",
      "0.6965093395021233\n",
      "0.6967165003625315\n",
      "0.6965093395021233\n",
      "0.6965093395021233\n",
      "0.6967165003625315\n",
      "0.6965093395021233\n",
      "0.6965093395021233\n",
      "0.6966992369574975\n",
      "0.6965093395021233\n",
      "0.6967855539826675\n",
      "0.6969063978179056\n",
      "0.6965093395021233\n",
      "0.6967165003625315\n",
      "0.6969063978179056\n",
      "0.6965093395021233\n",
      "0.6966992369574975\n",
      "0.6968373441977695\n",
      "0.6965093395021233\n",
      "0.6968200807927356\n",
      "0.6970790318682457\n",
      "0.6965093395021233\n",
      "0.6968200807927356\n",
      "0.6970790318682457\n",
      "0.6965093395021233\n",
      "0.6968200807927356\n",
      "0.6970445050581777\n",
      "0.6965093395021233\n",
      "0.6967855539826675\n",
      "0.6969236612229396\n",
      "0.6965093395021233\n",
      "0.6967682905776336\n",
      "0.6969236612229396\n",
      "0.6965093395021233\n",
      "0.6968028173877016\n",
      "0.6969236612229396\n",
      "0.6965093395021233\n",
      "0.6969754514380416\n",
      "0.6968891344128716\n",
      "0.6965093395021233\n",
      "0.6970445050581777\n",
      "0.6968891344128716\n",
      "0.6965093395021233\n",
      "0.6968718710078375\n",
      "0.6970099782481096\n",
      "0.6965093395021233\n",
      "0.6970099782481096\n",
      "0.6971998757034837\n",
      "0.6965093395021233\n",
      "0.6970617684632117\n",
      "0.6972171391085178\n",
      "0.6965093395021233\n",
      "0.6970445050581777\n",
      "0.6972344025135517\n",
      "0.6965093395021233\n",
      "0.6970617684632117\n",
      "0.6970617684632117\n",
      "0.6965093395021233\n",
      "0.6970445050581777\n",
      "0.6969927148430757\n",
      "0.6965093395021233\n",
      "0.6970617684632117\n",
      "0.6969754514380416\n",
      "0.6965093395021233\n",
      "0.6970272416531437\n",
      "0.6969927148430757\n",
      "0.6965093395021233\n",
      "0.6970445050581777\n",
      "0.6970790318682457\n",
      "0.6965093395021233\n",
      "0.6969236612229396\n",
      "0.6971998757034837\n",
      "0.6965093395021233\n",
      "0.6969409246279736\n",
      "0.6971308220833478\n",
      "0.6965093395021233\n",
      "0.6970099782481096\n",
      "0.6971653488934157\n",
      "0.6965093395021233\n",
      "0.6969581880330076\n",
      "0.6968718710078375\n",
      "0.6965093395021233\n",
      "0.6970445050581777\n",
      "0.6973379829437558\n",
      "0.6965093395021233\n",
      "0.6969927148430757\n",
      "0.6972516659185858\n",
      "0.6965093395021233\n",
      "0.6969754514380416\n",
      "0.6969927148430757\n",
      "0.6966129199323274\n",
      "0.6959051203259331\n",
      "0.6963539688568173\n",
      "0.6965956565272935\n",
      "0.6968891344128716\n",
      "0.6958705935158651\n",
      "0.6968028173877016\n",
      "0.6963712322618514\n",
      "0.6959569105410351\n",
      "0.6967682905776336\n",
      "0.6968718710078375\n",
      "0.6968373441977695\n",
      "0.6967510271725995\n",
      "0.6970962952732797\n",
      "0.6967165003625315\n",
      "0.6969581880330076\n",
      "0.6970272416531437\n",
      "0.6965783931222594\n",
      "0.6968200807927356\n",
      "0.6972171391085178\n",
      "0.6960432275662052\n",
      "0.6968200807927356\n",
      "0.6969409246279736\n",
      "0.6971480854883817\n",
      "0.6972516659185858\n",
      "0.6973034561336878\n",
      "0.6972516659185858\n",
      "0.6968028173877016\n",
      "0.6949901598591306\n",
      "0.6940234091772262\n",
      "0.6963712322618514\n",
      "0.6945585747332804\n",
      "0.6945240479232124\n",
      "0.6968718710078375\n",
      "0.6954907986051169\n",
      "0.6944722577081104\n",
      "0.6971826122984498\n",
      "0.6961295445913752\n",
      "0.6951282670994027\n",
      "0.6971135586783137\n",
      "0.6961985982115112\n",
      "0.6944895211131443\n",
      "0.6971308220833478\n",
      "0.6964920760970894\n",
      "0.6964748126920554\n",
      "0.6968891344128716\n",
      "0.6959741739460691\n",
      "0.6955771156302869\n",
      "0.6969927148430757\n",
      "0.6964057590719194\n",
      "0.6953699547698788\n",
      "0.6971826122984498\n",
      "0.6968718710078375\n",
      "0.6973207195387218\n",
      "0.6965611297172254\n",
      "0.6921589614335532\n",
      "0.6913648448019888\n",
      "0.6964920760970894\n",
      "0.6927804440147775\n",
      "0.6910541035113766\n",
      "0.6966819735524635\n",
      "0.6958705935158651\n",
      "0.6925560197493353\n",
      "0.6967510271725995\n",
      "0.6939543555570901\n",
      "0.6921934882436211\n",
      "0.6966992369574975\n",
      "0.6940406725822601\n",
      "0.6912785277768188\n",
      "0.6970099782481096\n",
      "0.6953526913648448\n",
      "0.6941097262023962\n",
      "0.6968546076028036\n",
      "0.695646169250423\n",
      "0.6931602389255257\n",
      "0.6966992369574975\n",
      "0.693798984911784\n",
      "0.6962676518316473\n",
      "0.6970099782481096\n",
      "0.6965266029071574\n",
      "0.697493353589062\n",
      "0.6965093395021233\n",
      "0.6967855539826675\n",
      "0.6970272416531437\n",
      "0.6965093395021233\n",
      "0.6967855539826675\n",
      "0.6970272416531437\n",
      "0.6965093395021233\n",
      "0.6967337637675655\n",
      "0.6970272416531437\n",
      "0.6965093395021233\n",
      "0.6967510271725995\n",
      "0.6970790318682457\n",
      "0.6965093395021233\n",
      "0.6967510271725995\n",
      "0.6970790318682457\n",
      "0.6965093395021233\n",
      "0.6967510271725995\n",
      "0.6970445050581777\n",
      "0.6965093395021233\n",
      "0.6967682905776336\n",
      "0.6969236612229396\n",
      "0.6965093395021233\n",
      "0.6967682905776336\n",
      "0.6969236612229396\n",
      "0.6965093395021233\n",
      "0.6967337637675655\n",
      "0.6969581880330076\n",
      "0.6965093395021233\n",
      "0.6971308220833478\n",
      "0.6969236612229396\n",
      "0.6965093395021233\n",
      "0.6971653488934157\n",
      "0.6969063978179056\n",
      "0.6965093395021233\n",
      "0.6970272416531437\n",
      "0.6970099782481096\n",
      "0.6965093395021233\n",
      "0.6970617684632117\n",
      "0.6971135586783137\n",
      "0.6965093395021233\n",
      "0.6970790318682457\n",
      "0.6970445050581777\n",
      "0.6965093395021233\n",
      "0.6969754514380416\n",
      "0.6970790318682457\n",
      "0.6965093395021233\n",
      "0.6970445050581777\n",
      "0.6971308220833478\n",
      "0.6965093395021233\n",
      "0.6970617684632117\n",
      "0.6971308220833478\n",
      "0.6965093395021233\n",
      "0.6971135586783137\n",
      "0.6971480854883817\n",
      "0.6965093395021233\n",
      "0.6968891344128716\n",
      "0.6973552463487899\n",
      "0.6965093395021233\n",
      "0.6969927148430757\n",
      "0.6973379829437558\n",
      "0.6965093395021233\n",
      "0.6970445050581777\n",
      "0.6971826122984498\n",
      "0.6965093395021233\n",
      "0.6969927148430757\n",
      "0.6970099782481096\n",
      "0.6965093395021233\n",
      "0.6969754514380416\n",
      "0.6970099782481096\n",
      "0.6965093395021233\n",
      "0.6969754514380416\n",
      "0.6969754514380416\n",
      "0.6965093395021233\n",
      "0.6969927148430757\n",
      "0.6973725097538238\n",
      "0.6965093395021233\n",
      "0.6969236612229396\n",
      "0.6972516659185858\n",
      "0.6965093395021233\n",
      "0.6968718710078375\n",
      "0.6971998757034837\n",
      "0.6969927148430757\n",
      "0.6975451438041639\n",
      "0.6970617684632117\n",
      "0.6969581880330076\n",
      "0.6973725097538238\n",
      "0.6970099782481096\n",
      "0.6968200807927356\n",
      "0.6973379829437558\n",
      "0.6972344025135517\n",
      "0.6968891344128716\n",
      "0.6974760901840279\n",
      "0.6973207195387218\n",
      "0.6969581880330076\n",
      "0.6975278803991299\n",
      "0.6974070365638919\n",
      "0.6967510271725995\n",
      "0.6971826122984498\n",
      "0.6973725097538238\n",
      "0.6969581880330076\n",
      "0.6974242999689259\n",
      "0.6969927148430757\n",
      "0.6969409246279736\n",
      "0.6975969340192659\n",
      "0.6969754514380416\n",
      "0.6968028173877016\n",
      "0.6970445050581777\n",
      "0.6973552463487899\n",
      "0.6969754514380416\n",
      "0.6976141974243\n",
      "0.6974242999689259\n",
      "0.6969927148430757\n",
      "0.697631460829334\n",
      "0.6973897731588579\n",
      "0.6967855539826675\n",
      "0.69778683147464\n",
      "0.6974070365638919\n",
      "0.6969409246279736\n",
      "0.6970099782481096\n",
      "0.6971135586783137\n",
      "0.6969409246279736\n",
      "0.6971135586783137\n",
      "0.6971480854883817\n",
      "0.6968373441977695\n",
      "0.6973552463487899\n",
      "0.6973207195387218\n",
      "0.6969927148430757\n",
      "0.6973034561336878\n",
      "0.6970962952732797\n",
      "0.6969236612229396\n",
      "0.6969927148430757\n",
      "0.6973207195387218\n",
      "0.6968200807927356\n",
      "0.6970099782481096\n",
      "0.6969927148430757\n",
      "0.6970790318682457\n",
      "0.6966819735524635\n",
      "0.6961295445913752\n",
      "0.6970617684632117\n",
      "0.6970790318682457\n",
      "0.6966819735524635\n",
      "0.6967165003625315\n",
      "0.6978040948796741\n",
      "0.6973207195387218\n",
      "0.6970617684632117\n",
      "0.6967682905776336\n",
      "0.6960604909712391\n",
      "0.6970272416531437\n",
      "0.6964575492870214\n",
      "0.6964575492870214\n",
      "0.6968546076028036\n",
      "0.6971653488934157\n",
      "0.6967855539826675\n",
      "0.6969927148430757\n",
      "0.6969927148430757\n",
      "0.6962676518316473\n",
      "0.6969236612229396\n",
      "0.6967855539826675\n",
      "0.6965956565272935\n",
      "0.6968200807927356\n",
      "0.6970790318682457\n",
      "0.6973552463487899\n",
      "0.6968028173877016\n",
      "0.693816248316818\n",
      "0.6923833856989953\n",
      "0.6970099782481096\n",
      "0.693988882367158\n",
      "0.6926423367745054\n",
      "0.6967165003625315\n",
      "0.6950246866691986\n",
      "0.693816248316818\n",
      "0.6967682905776336\n",
      "0.6932810827607637\n",
      "0.6940406725822601\n",
      "0.6970617684632117\n",
      "0.6946621551634844\n",
      "0.6953699547698788\n",
      "0.6968028173877016\n",
      "0.6959396471360011\n",
      "0.6963539688568173\n",
      "0.6970445050581777\n",
      "0.695680696060491\n",
      "0.6940061457721921\n",
      "0.6970445050581777\n",
      "0.6964575492870214\n",
      "0.6971480854883817\n",
      "0.6968891344128716\n",
      "0.6969927148430757\n",
      "0.6972516659185858\n"
     ]
    },
    {
     "name": "stdout",
     "output_type": "stream",
     "text": [
      "0.6962158616165453\n",
      "0.6880330076304251\n",
      "0.685995925836412\n",
      "0.6964920760970894\n",
      "0.6878603735800849\n",
      "0.6872906812139626\n",
      "0.6970962952732797\n",
      "0.6921071712184511\n",
      "0.6912440009667506\n",
      "0.6969927148430757\n",
      "0.6914856886372268\n",
      "0.6872216275938267\n",
      "0.6966474467423954\n",
      "0.6913993716120568\n",
      "0.6891206021475675\n",
      "0.6971653488934157\n",
      "0.695922383730967\n",
      "0.6944032040879743\n",
      "0.6970272416531437\n",
      "0.6922625418637572\n",
      "0.6913648448019888\n",
      "0.6967165003625315\n",
      "0.6959914373511031\n",
      "0.6953699547698788\n",
      "0.6971135586783137\n",
      "0.6969581880330076\n",
      "0.6973207195387218\n",
      "0.6961640714014432\n",
      "0.6829230397403584\n",
      "0.6787107689120602\n",
      "0.6955771156302869\n",
      "0.6827849325000863\n",
      "0.678158339950972\n",
      "0.6966992369574975\n",
      "0.6915547422573628\n",
      "0.688084797845527\n",
      "0.695767013085661\n",
      "0.684079687877637\n",
      "0.6812484894520595\n",
      "0.6965783931222594\n",
      "0.6851327555847115\n",
      "0.6814901771225357\n",
      "0.6969236612229396\n",
      "0.6932983461657978\n",
      "0.6915029520422609\n",
      "0.6973207195387218\n",
      "0.6887580706418533\n",
      "0.6839933708524669\n",
      "0.6967855539826675\n",
      "0.6916928494976349\n",
      "0.6962676518316473\n",
      "0.6968200807927356\n",
      "0.6963021786417153\n",
      "0.697493353589062\n",
      "0.6965093395021233\n",
      "0.6968546076028036\n",
      "0.6971998757034837\n",
      "0.6965093395021233\n",
      "0.6969236612229396\n",
      "0.6972171391085178\n",
      "0.6965093395021233\n",
      "0.6969236612229396\n",
      "0.6970445050581777\n",
      "0.6965093395021233\n",
      "0.6969063978179056\n",
      "0.6971480854883817\n",
      "0.6965093395021233\n",
      "0.6969409246279736\n",
      "0.6971480854883817\n",
      "0.6965093395021233\n",
      "0.6970445050581777\n",
      "0.6971308220833478\n",
      "0.6965093395021233\n",
      "0.6971308220833478\n",
      "0.6971826122984498\n",
      "0.6965093395021233\n",
      "0.6970099782481096\n",
      "0.6971653488934157\n",
      "0.6965093395021233\n",
      "0.6970962952732797\n",
      "0.6972344025135517\n",
      "0.6965093395021233\n",
      "0.6969063978179056\n",
      "0.6975624072091979\n",
      "0.6965093395021233\n",
      "0.6970272416531437\n",
      "0.6975106169940959\n",
      "0.6965093395021233\n",
      "0.6970962952732797\n",
      "0.6973897731588579\n",
      "0.6965093395021233\n",
      "0.6972516659185858\n",
      "0.6972861927286538\n",
      "0.6965093395021233\n",
      "0.6972516659185858\n",
      "0.6975106169940959\n",
      "0.6965093395021233\n",
      "0.6971135586783137\n",
      "0.6973379829437558\n",
      "0.6965093395021233\n",
      "0.6973034561336878\n",
      "0.6971653488934157\n",
      "0.6965093395021233\n",
      "0.6971826122984498\n",
      "0.6971653488934157\n",
      "0.6965093395021233\n",
      "0.6971135586783137\n",
      "0.6969927148430757\n",
      "0.6965093395021233\n",
      "0.6973207195387218\n",
      "0.6969581880330076\n",
      "0.6965093395021233\n",
      "0.6972689293236198\n",
      "0.6971653488934157\n",
      "0.6965093395021233\n",
      "0.6972171391085178\n",
      "0.6974588267789938\n",
      "0.6965093395021233\n",
      "0.6972861927286538\n",
      "0.6972171391085178\n",
      "0.6965093395021233\n",
      "0.6972516659185858\n",
      "0.6971998757034837\n",
      "0.6965093395021233\n",
      "0.6971653488934157\n",
      "0.6973034561336878\n",
      "0.6965093395021233\n",
      "0.6971653488934157\n",
      "0.6969581880330076\n",
      "0.6965093395021233\n",
      "0.6971998757034837\n",
      "0.6969236612229396\n",
      "0.6965093395021233\n",
      "0.6970099782481096\n",
      "0.6972689293236198\n",
      "0.6967682905776336\n",
      "0.6970099782481096\n",
      "0.6971308220833478\n",
      "0.6966992369574975\n",
      "0.6974588267789938\n",
      "0.6969927148430757\n",
      "0.6969409246279736\n",
      "0.6975106169940959\n",
      "0.6973207195387218\n",
      "0.6967337637675655\n",
      "0.6970790318682457\n",
      "0.6973379829437558\n",
      "0.6967165003625315\n",
      "0.6969927148430757\n",
      "0.6972516659185858\n",
      "0.6969581880330076\n",
      "0.697493353589062\n",
      "0.6977177778545041\n",
      "0.6971135586783137\n",
      "0.6972516659185858\n",
      "0.6969581880330076\n",
      "0.6969063978179056\n",
      "0.6972516659185858\n",
      "0.6970617684632117\n",
      "0.6969581880330076\n",
      "0.6970445050581777\n",
      "0.6973552463487899\n",
      "0.6967855539826675\n",
      "0.6968373441977695\n",
      "0.6966129199323274\n",
      "0.6967682905776336\n",
      "0.6968200807927356\n",
      "0.6969754514380416\n",
      "0.6967682905776336\n",
      "0.697493353589062\n",
      "0.6971653488934157\n",
      "0.6969063978179056\n",
      "0.6964920760970894\n",
      "0.6960087007561372\n",
      "0.6969063978179056\n",
      "0.6969581880330076\n",
      "0.6959914373511031\n",
      "0.6968200807927356\n",
      "0.6972344025135517\n",
      "0.6973725097538238\n",
      "0.6969063978179056\n",
      "0.6970272416531437\n",
      "0.6966474467423954\n",
      "0.6969754514380416\n",
      "0.6969063978179056\n",
      "0.6973207195387218\n",
      "0.6970272416531437\n",
      "0.6970099782481096\n",
      "0.6969927148430757\n",
      "0.6969236612229396\n",
      "0.6961985982115112\n",
      "0.6946621551634844\n",
      "0.6968891344128716\n",
      "0.6961640714014432\n",
      "0.6947829989987225\n",
      "0.6969927148430757\n",
      "0.6974070365638919\n",
      "0.6969581880330076\n",
      "0.6969409246279736\n",
      "0.695646169250423\n",
      "0.6945585747332804\n",
      "0.6969236612229396\n",
      "0.6954390083900148\n",
      "0.6948693160238926\n",
      "0.6968891344128716\n",
      "0.6972689293236198\n",
      "0.6966819735524635\n",
      "0.6969409246279736\n",
      "0.6965093395021233\n",
      "0.6958188033007631\n",
      "0.6967855539826675\n",
      "0.6965438663121915\n",
      "0.6965956565272935\n",
      "0.6970272416531437\n",
      "0.6970962952732797\n",
      "0.6973552463487899\n",
      "0.6968028173877016\n",
      "0.6928840244449815\n",
      "0.6904844111452543\n",
      "0.6968546076028036\n",
      "0.6920726444083831\n",
      "0.6904671477402203\n",
      "0.6970272416531437\n",
      "0.6948865794289265\n",
      "0.6921762248385872\n",
      "0.6962676518316473\n",
      "0.6927631806097435\n",
      "0.6919518005731451\n",
      "0.6968891344128716\n",
      "0.6929185512550495\n",
      "0.6922107516486552\n",
      "0.6966819735524635\n",
      "0.6948865794289265\n",
      "0.695749749680627\n",
      "0.6971135586783137\n",
      "0.6942650968477022\n",
      "0.6920553810033491\n",
      "0.6970272416531437\n",
      "0.6959741739460691\n",
      "0.6971480854883817\n",
      "0.6970272416531437\n",
      "0.6970272416531437\n",
      "0.6972516659185858\n",
      "0.6959051203259331\n",
      "0.6854089700652557\n",
      "0.6815937575527397\n",
      "0.6966129199323274\n",
      "0.6844422193833511\n",
      "0.6814383869074336\n",
      "0.6969754514380416\n",
      "0.691830956737907\n",
      "0.6888616510720574\n",
      "0.6965438663121915\n",
      "0.6877567931498809\n",
      "0.6844594827883852\n",
      "0.6967855539826675\n",
      "0.6895349238683838\n",
      "0.6811621724268895\n",
      "0.6969236612229396\n",
      "0.693988882367158\n",
      "0.6929358146600836\n",
      "0.6971480854883817\n",
      "0.6886890170217174\n",
      "0.6883092221109691\n",
      "0.6965093395021233\n",
      "0.6960432275662052\n",
      "0.6953699547698788\n",
      "0.6973552463487899\n",
      "0.6968373441977695\n",
      "0.6973207195387218\n",
      "0.6946448917584505\n",
      "0.6774678037496116\n",
      "0.6684908331319269\n",
      "0.6960950177813072\n",
      "0.674429444463626\n",
      "0.6687325208024031\n",
      "0.6964402858819874\n",
      "0.6877050029347789\n",
      "0.6824224009943721\n",
      "0.6967165003625315\n",
      "0.6777785450402237\n",
      "0.6739805959327417\n",
      "0.6970445050581777\n",
      "0.6815419673376377\n",
      "0.6734972205917895\n",
      "0.6967855539826675\n",
      "0.6912440009667506\n",
      "0.6885336463764112\n",
      "0.6965266029071574\n",
      "0.6826640886648483\n",
      "0.6774850671546456\n",
      "0.6961295445913752\n",
      "0.6905707281704243\n",
      "0.6962676518316473\n",
      "0.6969409246279736\n",
      "0.6963367054517833\n",
      "0.697493353589062\n",
      "Best score on validation set: 0.70\n",
      "Best paramters:  {'n_estimators': 500, 'learning_rate': 0.05, 'max_depth': 5, 'gamma': 5, 'colsample_bytree': 0.5, 'subsample': 0.5, 'random_state': 1}\n",
      "Test set score with best parameters: 0.69\n"
     ]
    }
   ],
   "source": [
    "#XGBOOST\n",
    "\n",
    "import xgboost as xgb\n",
    "\n",
    "best_score=0\n",
    "\n",
    "for n_estimators in [100, 500, 1000]:\n",
    "    for learning_rate in [0.01, 0.05, 0.5]:\n",
    "        for max_depth in [3, 4, 5]:\n",
    "            for subsample in [0.5, 0.75, 1]:\n",
    "                for gamma in [0, 1, 5]:\n",
    "                    for colsample_bytree in [0.1, 0.5, 1]:                 \n",
    "                        XGB2=xgb.XGBClassifier(n_estimators=n_estimators, learning_rate=learning_rate, max_depth=max_depth, gamma=gamma, colsample_bytree=colsample_bytree, subsample=subsample, random_state=1)\n",
    "                        XGB2.fit(X_train_scale, y_train)\n",
    "                        score=XGB2.score(X_validate_scale, y_validate)\n",
    "                        print(score)\n",
    "                        if score > best_score:            \n",
    "                            best_score = score            \n",
    "                            best_parameters= {'n_estimators': n_estimators, 'learning_rate': learning_rate, 'max_depth': max_depth, 'gamma': gamma, 'colsample_bytree': colsample_bytree, 'subsample': subsample, 'random_state': 1 }\n",
    "\n",
    "    \n",
    "             \n",
    "XGB2.fit(X_trainval_scale, y_trainval)\n",
    "test_score=XGB2.score(X_test_scale, y_test)\n",
    "print(\"Best score on validation set: {:.2f}\".format(best_score))\n",
    "print(\"Best paramters: \", best_parameters)\n",
    "print(\"Test set score with best parameters: {:.2f}\".format(test_score))\n",
    "\n"
   ]
  },
  {
   "cell_type": "code",
   "execution_count": 24,
   "metadata": {},
   "outputs": [
    {
     "name": "stdout",
     "output_type": "stream",
     "text": [
      "Best score on validation set: 0.70\n",
      "Best paramters:  {'n_estimators': 500, 'learning_rate': 0.05, 'max_depth': 5, 'gamma': 5, 'colsample_bytree': 0.5, 'subsample': 0.5, 'random_state': 1}\n",
      "Test set score with best parameters: 0.69\n"
     ]
    }
   ],
   "source": [
    "XGB2.fit(X_trainval_scale, y_trainval)\n",
    "test_score=XGB2.score(X_test_scale, y_test)\n",
    "print(\"Best score on validation set: {:.2f}\".format(best_score))\n",
    "print(\"Best paramters: \", best_parameters)\n",
    "print(\"Test set score with best parameters: {:.2f}\".format(test_score))\n",
    "\n"
   ]
  },
  {
   "cell_type": "code",
   "execution_count": 25,
   "metadata": {},
   "outputs": [
    {
     "name": "stdout",
     "output_type": "stream",
     "text": [
      "[[  494 17220]\n",
      " [  471 39742]]\n"
     ]
    }
   ],
   "source": [
    "##Confusion Matrix\n",
    "\n",
    "from sklearn.metrics import confusion_matrix\n",
    "\n",
    "pred_XGB2=XGB2.predict(X_test_scale)\n",
    "print(confusion_matrix(y_test, pred_XGB2))"
   ]
  },
  {
   "cell_type": "code",
   "execution_count": 26,
   "metadata": {},
   "outputs": [
    {
     "name": "stdout",
     "output_type": "stream",
     "text": [
      "              precision    recall  f1-score   support\n",
      "\n",
      "           0       0.51      0.03      0.05     17714\n",
      "           1       0.70      0.99      0.82     40213\n",
      "\n",
      "   micro avg       0.69      0.69      0.69     57927\n",
      "   macro avg       0.60      0.51      0.44     57927\n",
      "weighted avg       0.64      0.69      0.58     57927\n",
      "\n"
     ]
    }
   ],
   "source": [
    "##Classification Report\n",
    "\n",
    "from sklearn.metrics import classification_report\n",
    "\n",
    "\n",
    "print(classification_report(y_test, pred_XGB2))"
   ]
  },
  {
   "cell_type": "code",
   "execution_count": 85,
   "metadata": {},
   "outputs": [
    {
     "name": "stdout",
     "output_type": "stream",
     "text": [
      "Best score on validation set: 0.66\n",
      "Best paramters:  {'n_neighbors': 9}\n",
      "Test set score with best parameters: 0.66\n"
     ]
    }
   ],
   "source": [
    "##KNN\n",
    "\n",
    "from sklearn.neighbors import KNeighborsClassifier\n",
    "\n",
    "best_score=0\n",
    "\n",
    "for n_neighbors in [1, 2, 3, 4, 5, 6, 7, 8, 9, 10]:\n",
    "    knn=KNeighborsClassifier(n_neighbors=n_neighbors)\n",
    "    knn.fit(X_train_scale, y_train)\n",
    "    score=knn.score(X_validate_scale, y_validate)\n",
    "    if score > best_score:\n",
    "            best_score = score\n",
    "            best_parameters= {'n_neighbors': n_neighbors}\n",
    "            \n",
    "knn= KNeighborsClassifier(**best_parameters)\n",
    "knn.fit(X_trainval_scale, y_trainval)\n",
    "test_score=knn.score(X_test_scale, y_test)\n",
    "print(\"Best score on validation set: {:.2f}\".format(best_score))\n",
    "print(\"Best paramters: \", best_parameters)\n",
    "print(\"Test set score with best parameters: {:.2f}\".format(test_score))\n",
    "    "
   ]
  },
  {
   "cell_type": "code",
   "execution_count": 86,
   "metadata": {},
   "outputs": [
    {
     "name": "stdout",
     "output_type": "stream",
     "text": [
      "[[ 2809 14860]\n",
      " [ 4706 35552]]\n"
     ]
    }
   ],
   "source": [
    "##Confusion Matrix\n",
    "\n",
    "from sklearn.metrics import confusion_matrix\n",
    "\n",
    "pred_knn=knn.predict(X_test_scale)\n",
    "print(confusion_matrix(y_test, pred_knn))"
   ]
  },
  {
   "cell_type": "code",
   "execution_count": 87,
   "metadata": {},
   "outputs": [
    {
     "name": "stdout",
     "output_type": "stream",
     "text": [
      "              precision    recall  f1-score   support\n",
      "\n",
      "           0       0.37      0.16      0.22     17669\n",
      "           1       0.71      0.88      0.78     40258\n",
      "\n",
      "   micro avg       0.66      0.66      0.66     57927\n",
      "   macro avg       0.54      0.52      0.50     57927\n",
      "weighted avg       0.60      0.66      0.61     57927\n",
      "\n"
     ]
    }
   ],
   "source": [
    "##Classification Report\n",
    "\n",
    "from sklearn.metrics import classification_report\n",
    "\n",
    "\n",
    "print(classification_report(y_test, pred_knn))"
   ]
  },
  {
   "cell_type": "code",
   "execution_count": 82,
   "metadata": {},
   "outputs": [
    {
     "name": "stderr",
     "output_type": "stream",
     "text": [
      "C:\\Users\\neefi\\Anaconda3\\lib\\site-packages\\sklearn\\linear_model\\logistic.py:433: FutureWarning: Default solver will be changed to 'lbfgs' in 0.22. Specify a solver to silence this warning.\n",
      "  FutureWarning)\n",
      "C:\\Users\\neefi\\Anaconda3\\lib\\site-packages\\sklearn\\linear_model\\logistic.py:433: FutureWarning: Default solver will be changed to 'lbfgs' in 0.22. Specify a solver to silence this warning.\n",
      "  FutureWarning)\n",
      "C:\\Users\\neefi\\Anaconda3\\lib\\site-packages\\sklearn\\linear_model\\logistic.py:433: FutureWarning: Default solver will be changed to 'lbfgs' in 0.22. Specify a solver to silence this warning.\n",
      "  FutureWarning)\n",
      "C:\\Users\\neefi\\Anaconda3\\lib\\site-packages\\sklearn\\linear_model\\logistic.py:433: FutureWarning: Default solver will be changed to 'lbfgs' in 0.22. Specify a solver to silence this warning.\n",
      "  FutureWarning)\n",
      "C:\\Users\\neefi\\Anaconda3\\lib\\site-packages\\sklearn\\linear_model\\logistic.py:433: FutureWarning: Default solver will be changed to 'lbfgs' in 0.22. Specify a solver to silence this warning.\n",
      "  FutureWarning)\n",
      "C:\\Users\\neefi\\Anaconda3\\lib\\site-packages\\sklearn\\linear_model\\logistic.py:433: FutureWarning: Default solver will be changed to 'lbfgs' in 0.22. Specify a solver to silence this warning.\n",
      "  FutureWarning)\n",
      "C:\\Users\\neefi\\Anaconda3\\lib\\site-packages\\sklearn\\linear_model\\logistic.py:433: FutureWarning: Default solver will be changed to 'lbfgs' in 0.22. Specify a solver to silence this warning.\n",
      "  FutureWarning)\n"
     ]
    },
    {
     "name": "stdout",
     "output_type": "stream",
     "text": [
      "Best score on validation set: 0.70\n",
      "Best paramters:  {'C': 0.001}\n",
      "Test set score with best parameters: 0.69\n"
     ]
    }
   ],
   "source": [
    "##logistic regression\n",
    "\n",
    "from sklearn.linear_model import LogisticRegression\n",
    "\n",
    "best_score=0\n",
    "\n",
    "for C in[0.001, 0.01, 0.1, 1, 10, 100]:\n",
    "    clf=LogisticRegression(C=C)\n",
    "    clf.fit(X_train_scale, y_train)\n",
    "    score=clf.score(X_validate_scale, y_validate)\n",
    "    if score > best_score:\n",
    "            best_score = score\n",
    "            best_parameters= {'C': C}\n",
    "            \n",
    "clf= LogisticRegression(**best_parameters)\n",
    "clf.fit(X_trainval_scale, y_trainval)\n",
    "test_score=clf.score(X_test_scale, y_test)\n",
    "print(\"Best score on validation set: {:.2f}\".format(best_score))\n",
    "print(\"Best paramters: \", best_parameters)\n",
    "print(\"Test set score with best parameters: {:.2f}\".format(test_score))"
   ]
  },
  {
   "cell_type": "code",
   "execution_count": 83,
   "metadata": {},
   "outputs": [
    {
     "name": "stdout",
     "output_type": "stream",
     "text": [
      "[[    0 17669]\n",
      " [    0 40258]]\n"
     ]
    }
   ],
   "source": [
    "##Confusion Matrix\n",
    "\n",
    "from sklearn.metrics import confusion_matrix\n",
    "\n",
    "pred_clf=clf.predict(X_test_scale)\n",
    "print(confusion_matrix(y_test, pred_clf))"
   ]
  },
  {
   "cell_type": "code",
   "execution_count": 84,
   "metadata": {},
   "outputs": [
    {
     "name": "stdout",
     "output_type": "stream",
     "text": [
      "              precision    recall  f1-score   support\n",
      "\n",
      "           0       0.00      0.00      0.00     17669\n",
      "           1       0.69      1.00      0.82     40258\n",
      "\n",
      "   micro avg       0.69      0.69      0.69     57927\n",
      "   macro avg       0.35      0.50      0.41     57927\n",
      "weighted avg       0.48      0.69      0.57     57927\n",
      "\n"
     ]
    },
    {
     "name": "stderr",
     "output_type": "stream",
     "text": [
      "C:\\Users\\neefi\\Anaconda3\\lib\\site-packages\\sklearn\\metrics\\classification.py:1143: UndefinedMetricWarning: Precision and F-score are ill-defined and being set to 0.0 in labels with no predicted samples.\n",
      "  'precision', 'predicted', average, warn_for)\n",
      "C:\\Users\\neefi\\Anaconda3\\lib\\site-packages\\sklearn\\metrics\\classification.py:1143: UndefinedMetricWarning: Precision and F-score are ill-defined and being set to 0.0 in labels with no predicted samples.\n",
      "  'precision', 'predicted', average, warn_for)\n",
      "C:\\Users\\neefi\\Anaconda3\\lib\\site-packages\\sklearn\\metrics\\classification.py:1143: UndefinedMetricWarning: Precision and F-score are ill-defined and being set to 0.0 in labels with no predicted samples.\n",
      "  'precision', 'predicted', average, warn_for)\n"
     ]
    }
   ],
   "source": [
    "##Classification Report\n",
    "\n",
    "from sklearn.metrics import classification_report\n",
    "\n",
    "\n",
    "print(classification_report(y_test, pred_clf))"
   ]
  },
  {
   "cell_type": "code",
   "execution_count": 79,
   "metadata": {},
   "outputs": [
    {
     "name": "stdout",
     "output_type": "stream",
     "text": [
      "Best score on validation set: 0.66\n",
      "Best paramters:  {'max_depth': 7, 'n_estimators': 10}\n",
      "Test set score with best parameters: 0.65\n"
     ]
    }
   ],
   "source": [
    "##Naive Bayes\n",
    "\n",
    "from sklearn.naive_bayes import GaussianNB\n",
    "\n",
    "\n",
    "bay= GaussianNB()\n",
    "bay.fit(X_train_scale, y_train)\n",
    "best_score=bay.score(X_validate_scale, y_validate)\n",
    "\n",
    "            \n",
    "bay.fit(X_trainval_scale, y_trainval)\n",
    "test_score=bay.score(X_test_scale, y_test)\n",
    "print(\"Best score on validation set: {:.2f}\".format(best_score))\n",
    "#print(\"Best paramters: \", best_parameters)\n",
    "print(\"Test set score with best parameters: {:.2f}\".format(test_score))"
   ]
  },
  {
   "cell_type": "code",
   "execution_count": 80,
   "metadata": {},
   "outputs": [
    {
     "name": "stdout",
     "output_type": "stream",
     "text": [
      "[[ 3815 13854]\n",
      " [ 6369 33889]]\n"
     ]
    }
   ],
   "source": [
    "##Confusion Matrix\n",
    "\n",
    "from sklearn.metrics import confusion_matrix\n",
    "\n",
    "pred_bay=bay.predict(X_test_scale)\n",
    "print(confusion_matrix(y_test, pred_bay))"
   ]
  },
  {
   "cell_type": "code",
   "execution_count": 81,
   "metadata": {},
   "outputs": [
    {
     "name": "stdout",
     "output_type": "stream",
     "text": [
      "              precision    recall  f1-score   support\n",
      "\n",
      "           0       0.37      0.22      0.27     17669\n",
      "           1       0.71      0.84      0.77     40258\n",
      "\n",
      "   micro avg       0.65      0.65      0.65     57927\n",
      "   macro avg       0.54      0.53      0.52     57927\n",
      "weighted avg       0.61      0.65      0.62     57927\n",
      "\n"
     ]
    }
   ],
   "source": [
    "##Classification Report\n",
    "\n",
    "from sklearn.metrics import classification_report\n",
    "\n",
    "\n",
    "print(classification_report(y_test, pred_bay))"
   ]
  },
  {
   "cell_type": "markdown",
   "metadata": {},
   "source": [
    "### Feature Selection\n",
    "RFE\n"
   ]
  },
  {
   "cell_type": "code",
   "execution_count": 111,
   "metadata": {
    "scrolled": true
   },
   "outputs": [
    {
     "name": "stderr",
     "output_type": "stream",
     "text": [
      "C:\\Users\\neefi\\Anaconda3\\lib\\site-packages\\sklearn\\linear_model\\logistic.py:433: FutureWarning: Default solver will be changed to 'lbfgs' in 0.22. Specify a solver to silence this warning.\n",
      "  FutureWarning)\n",
      "C:\\Users\\neefi\\Anaconda3\\lib\\site-packages\\sklearn\\linear_model\\logistic.py:433: FutureWarning: Default solver will be changed to 'lbfgs' in 0.22. Specify a solver to silence this warning.\n",
      "  FutureWarning)\n",
      "C:\\Users\\neefi\\Anaconda3\\lib\\site-packages\\sklearn\\linear_model\\logistic.py:433: FutureWarning: Default solver will be changed to 'lbfgs' in 0.22. Specify a solver to silence this warning.\n",
      "  FutureWarning)\n",
      "C:\\Users\\neefi\\Anaconda3\\lib\\site-packages\\sklearn\\linear_model\\logistic.py:433: FutureWarning: Default solver will be changed to 'lbfgs' in 0.22. Specify a solver to silence this warning.\n",
      "  FutureWarning)\n",
      "C:\\Users\\neefi\\Anaconda3\\lib\\site-packages\\sklearn\\linear_model\\logistic.py:433: FutureWarning: Default solver will be changed to 'lbfgs' in 0.22. Specify a solver to silence this warning.\n",
      "  FutureWarning)\n",
      "C:\\Users\\neefi\\Anaconda3\\lib\\site-packages\\sklearn\\linear_model\\logistic.py:433: FutureWarning: Default solver will be changed to 'lbfgs' in 0.22. Specify a solver to silence this warning.\n",
      "  FutureWarning)\n",
      "C:\\Users\\neefi\\Anaconda3\\lib\\site-packages\\sklearn\\linear_model\\logistic.py:433: FutureWarning: Default solver will be changed to 'lbfgs' in 0.22. Specify a solver to silence this warning.\n",
      "  FutureWarning)\n",
      "C:\\Users\\neefi\\Anaconda3\\lib\\site-packages\\sklearn\\linear_model\\logistic.py:433: FutureWarning: Default solver will be changed to 'lbfgs' in 0.22. Specify a solver to silence this warning.\n",
      "  FutureWarning)\n",
      "C:\\Users\\neefi\\Anaconda3\\lib\\site-packages\\sklearn\\linear_model\\logistic.py:433: FutureWarning: Default solver will be changed to 'lbfgs' in 0.22. Specify a solver to silence this warning.\n",
      "  FutureWarning)\n",
      "C:\\Users\\neefi\\Anaconda3\\lib\\site-packages\\sklearn\\linear_model\\logistic.py:433: FutureWarning: Default solver will be changed to 'lbfgs' in 0.22. Specify a solver to silence this warning.\n",
      "  FutureWarning)\n",
      "C:\\Users\\neefi\\Anaconda3\\lib\\site-packages\\sklearn\\linear_model\\logistic.py:433: FutureWarning: Default solver will be changed to 'lbfgs' in 0.22. Specify a solver to silence this warning.\n",
      "  FutureWarning)\n",
      "C:\\Users\\neefi\\Anaconda3\\lib\\site-packages\\sklearn\\linear_model\\logistic.py:433: FutureWarning: Default solver will be changed to 'lbfgs' in 0.22. Specify a solver to silence this warning.\n",
      "  FutureWarning)\n",
      "C:\\Users\\neefi\\Anaconda3\\lib\\site-packages\\sklearn\\linear_model\\logistic.py:433: FutureWarning: Default solver will be changed to 'lbfgs' in 0.22. Specify a solver to silence this warning.\n",
      "  FutureWarning)\n",
      "C:\\Users\\neefi\\Anaconda3\\lib\\site-packages\\sklearn\\linear_model\\logistic.py:433: FutureWarning: Default solver will be changed to 'lbfgs' in 0.22. Specify a solver to silence this warning.\n",
      "  FutureWarning)\n",
      "C:\\Users\\neefi\\Anaconda3\\lib\\site-packages\\sklearn\\linear_model\\logistic.py:433: FutureWarning: Default solver will be changed to 'lbfgs' in 0.22. Specify a solver to silence this warning.\n",
      "  FutureWarning)\n",
      "C:\\Users\\neefi\\Anaconda3\\lib\\site-packages\\sklearn\\linear_model\\logistic.py:433: FutureWarning: Default solver will be changed to 'lbfgs' in 0.22. Specify a solver to silence this warning.\n",
      "  FutureWarning)\n",
      "C:\\Users\\neefi\\Anaconda3\\lib\\site-packages\\sklearn\\linear_model\\logistic.py:433: FutureWarning: Default solver will be changed to 'lbfgs' in 0.22. Specify a solver to silence this warning.\n",
      "  FutureWarning)\n",
      "C:\\Users\\neefi\\Anaconda3\\lib\\site-packages\\sklearn\\linear_model\\logistic.py:433: FutureWarning: Default solver will be changed to 'lbfgs' in 0.22. Specify a solver to silence this warning.\n",
      "  FutureWarning)\n",
      "C:\\Users\\neefi\\Anaconda3\\lib\\site-packages\\sklearn\\linear_model\\logistic.py:433: FutureWarning: Default solver will be changed to 'lbfgs' in 0.22. Specify a solver to silence this warning.\n",
      "  FutureWarning)\n",
      "C:\\Users\\neefi\\Anaconda3\\lib\\site-packages\\sklearn\\linear_model\\logistic.py:433: FutureWarning: Default solver will be changed to 'lbfgs' in 0.22. Specify a solver to silence this warning.\n",
      "  FutureWarning)\n",
      "C:\\Users\\neefi\\Anaconda3\\lib\\site-packages\\sklearn\\linear_model\\logistic.py:433: FutureWarning: Default solver will be changed to 'lbfgs' in 0.22. Specify a solver to silence this warning.\n",
      "  FutureWarning)\n"
     ]
    },
    {
     "name": "stdout",
     "output_type": "stream",
     "text": [
      "[ True False False  True False False  True  True  True  True  True False\n",
      " False  True False False False False False False  True False False  True\n",
      " False False False False False False]\n",
      "[ 1 21 14  1 13 17  1  1  1  1  1  6 16  1 15  4  3  5  2  8  1 18  7  1\n",
      " 19 12  9 10 20 11]\n"
     ]
    }
   ],
   "source": [
    "from sklearn.feature_selection import RFE\n",
    "\n",
    "\n",
    "clf=LogisticRegression()\n",
    "# create the RFE model and select 10 attributes\n",
    "select = RFE(clf, 10)\n",
    "select.fit(X_train_scale, y_train)\n",
    "# summarize the selection of the attributes\n",
    "print(rfe.support_)\n",
    "print(rfe.ranking_)"
   ]
  },
  {
   "cell_type": "code",
   "execution_count": 112,
   "metadata": {},
   "outputs": [
    {
     "data": {
      "text/plain": [
       "([], <a list of 0 Text yticklabel objects>)"
      ]
     },
     "execution_count": 112,
     "metadata": {},
     "output_type": "execute_result"
    },
    {
     "data": {
      "image/png": "[encoded data removed]",
      "text/plain": [
       "<Figure size 1152x144 with 1 Axes>"
      ]
     },
     "metadata": {
      "needs_background": "light"
     },
     "output_type": "display_data"
    }
   ],
   "source": [
    "import matplotlib.pyplot as plt\n",
    "\n",
    "mask=select.get_support()\n",
    "plt.matshow(mask.reshape(1, -1), cmap='gray_r')\n",
    "plt.xlabel(\"Sample Index\")\n",
    "plt.yticks(())"
   ]
  },
  {
   "cell_type": "code",
   "execution_count": 113,
   "metadata": {},
   "outputs": [],
   "source": [
    "X_train_rfe=select.transform(X_train_scale)\n",
    "X_test_rfe=select.transform(X_test_scale)\n",
    "X_validate_rfe=select.transform(X_validate_scale)\n",
    "X_trainval_rfe=select.transform(X_trainval_scale)\n"
   ]
  },
  {
   "cell_type": "code",
   "execution_count": 114,
   "metadata": {},
   "outputs": [
    {
     "name": "stdout",
     "output_type": "stream",
     "text": [
      "X_train_RFE Shape: (173778, 10)\n"
     ]
    }
   ],
   "source": [
    "print(\"X_train_RFE Shape: {}\".format(X_train_rfe.shape))"
   ]
  },
  {
   "cell_type": "code",
   "execution_count": 151,
   "metadata": {
    "scrolled": true
   },
   "outputs": [
    {
     "name": "stderr",
     "output_type": "stream",
     "text": [
      "C:\\Users\\neefi\\Anaconda3\\lib\\site-packages\\sklearn\\linear_model\\logistic.py:433: FutureWarning: Default solver will be changed to 'lbfgs' in 0.22. Specify a solver to silence this warning.\n",
      "  FutureWarning)\n",
      "C:\\Users\\neefi\\Anaconda3\\lib\\site-packages\\sklearn\\linear_model\\logistic.py:433: FutureWarning: Default solver will be changed to 'lbfgs' in 0.22. Specify a solver to silence this warning.\n",
      "  FutureWarning)\n",
      "C:\\Users\\neefi\\Anaconda3\\lib\\site-packages\\sklearn\\linear_model\\logistic.py:433: FutureWarning: Default solver will be changed to 'lbfgs' in 0.22. Specify a solver to silence this warning.\n",
      "  FutureWarning)\n",
      "C:\\Users\\neefi\\Anaconda3\\lib\\site-packages\\sklearn\\linear_model\\logistic.py:433: FutureWarning: Default solver will be changed to 'lbfgs' in 0.22. Specify a solver to silence this warning.\n",
      "  FutureWarning)\n",
      "C:\\Users\\neefi\\Anaconda3\\lib\\site-packages\\sklearn\\linear_model\\logistic.py:433: FutureWarning: Default solver will be changed to 'lbfgs' in 0.22. Specify a solver to silence this warning.\n",
      "  FutureWarning)\n",
      "C:\\Users\\neefi\\Anaconda3\\lib\\site-packages\\sklearn\\linear_model\\logistic.py:433: FutureWarning: Default solver will be changed to 'lbfgs' in 0.22. Specify a solver to silence this warning.\n",
      "  FutureWarning)\n",
      "C:\\Users\\neefi\\Anaconda3\\lib\\site-packages\\sklearn\\linear_model\\logistic.py:433: FutureWarning: Default solver will be changed to 'lbfgs' in 0.22. Specify a solver to silence this warning.\n",
      "  FutureWarning)\n"
     ]
    },
    {
     "name": "stdout",
     "output_type": "stream",
     "text": [
      "Best score on validation set: 0.70\n",
      "Best paramters:  {'C': 0.01}\n",
      "Test set score with best parameters: 0.69\n"
     ]
    }
   ],
   "source": [
    "##logistic regression RFE\n",
    "\n",
    "from sklearn.linear_model import LogisticRegression\n",
    "\n",
    "best_score=0\n",
    "\n",
    "for C in[0.001, 0.01, 0.1, 1, 10, 100]:\n",
    "    clf=LogisticRegression(C=C)\n",
    "    clf.fit(X_train_rfe, y_train)\n",
    "    score=clf.score(X_validate_rfe, y_validate)\n",
    "    if score > best_score:\n",
    "            best_score = score\n",
    "            best_parameters= {'C': C}\n",
    "            \n",
    "clf= LogisticRegression(**best_parameters)\n",
    "clf.fit(X_trainval_rfe, y_trainval)\n",
    "test_score=clf.score(X_test_rfe, y_test)\n",
    "print(\"Best score on validation set: {:.2f}\".format(best_score))\n",
    "print(\"Best paramters: \", best_parameters)\n",
    "print(\"Test set score with best parameters: {:.2f}\".format(test_score))"
   ]
  },
  {
   "cell_type": "code",
   "execution_count": 153,
   "metadata": {},
   "outputs": [
    {
     "name": "stdout",
     "output_type": "stream",
     "text": [
      "[[  112 17557]\n",
      " [  158 40100]]\n"
     ]
    }
   ],
   "source": [
    "##Confusion Matrix\n",
    "\n",
    "from sklearn.metrics import confusion_matrix\n",
    "\n",
    "pred_clf=clf.predict(X_test_rfe)\n",
    "print(confusion_matrix(y_test, pred_clf))"
   ]
  },
  {
   "cell_type": "code",
   "execution_count": 119,
   "metadata": {},
   "outputs": [
    {
     "name": "stdout",
     "output_type": "stream",
     "text": [
      "              precision    recall  f1-score   support\n",
      "\n",
      "           0       0.52      0.00      0.00     17669\n",
      "           1       0.70      1.00      0.82     40258\n",
      "\n",
      "   micro avg       0.70      0.70      0.70     57927\n",
      "   macro avg       0.61      0.50      0.41     57927\n",
      "weighted avg       0.64      0.70      0.57     57927\n",
      "\n"
     ]
    }
   ],
   "source": [
    "##Classification Report\n",
    "\n",
    "from sklearn.metrics import classification_report\n",
    "\n",
    "\n",
    "print(classification_report(y_test, pred_clf))"
   ]
  },
  {
   "cell_type": "markdown",
   "metadata": {},
   "source": [
    "### Feature Selection\n",
    "L1 reg"
   ]
  },
  {
   "cell_type": "code",
   "execution_count": 120,
   "metadata": {},
   "outputs": [
    {
     "name": "stdout",
     "output_type": "stream",
     "text": [
      "Best score on validation set: 0.70\n",
      "Best paramters:  {'C': 0.001}\n",
      "Test set score with best parameters: 0.69\n"
     ]
    }
   ],
   "source": [
    "##logistic l1 reg\n",
    "\n",
    "from sklearn.feature_selection import SelectFromModel\n",
    "\n",
    "\n",
    "from sklearn.linear_model import LogisticRegression\n",
    "\n",
    "best_score=0\n",
    "\n",
    "for C in[0.001, 0.01, 0.1, 1, 10, 100]:\n",
    "    clf_l1=LogisticRegression(C=C, penalty='l1', tol=0.01, solver='saga')\n",
    "    clf_l1.fit(X_train_scale, y_train)\n",
    "    score=clf_l1.score(X_validate_scale, y_validate)\n",
    "    if score > best_score:\n",
    "            best_score = score\n",
    "            best_parameters= {'C': C}\n",
    "            \n",
    "clf_l1= LogisticRegression(**best_parameters, penalty='l1', tol=0.01, solver='saga')\n",
    "clf_l1.fit(X_trainval_scale, y_trainval)\n",
    "test_score=clf_l1.score(X_test_scale, y_test)\n",
    "print(\"Best score on validation set: {:.2f}\".format(best_score))\n",
    "print(\"Best paramters: \", best_parameters)\n",
    "print(\"Test set score with best parameters: {:.2f}\".format(test_score))\n",
    "\n"
   ]
  },
  {
   "cell_type": "code",
   "execution_count": 123,
   "metadata": {},
   "outputs": [
    {
     "name": "stdout",
     "output_type": "stream",
     "text": [
      "[[ 0.63846454  0.          0.          0.          0.03171184  0.\n",
      "   0.         -0.01337781  0.          0.          0.          0.\n",
      "   0.          0.          0.          0.          0.          0.\n",
      "   0.          0.          0.          0.          0.          0.\n",
      "   0.          0.          0.          0.          0.          0.        ]]\n"
     ]
    }
   ],
   "source": [
    "result=clf_l1.fit(X_trainval_scale, y_trainval)\n",
    "print(result.coef_)"
   ]
  },
  {
   "cell_type": "code",
   "execution_count": 124,
   "metadata": {},
   "outputs": [
    {
     "name": "stdout",
     "output_type": "stream",
     "text": [
      "[[    0 17669]\n",
      " [    0 40258]]\n"
     ]
    }
   ],
   "source": [
    "##Confusion Matrix\n",
    "\n",
    "from sklearn.metrics import confusion_matrix\n",
    "\n",
    "pred_clf=clf_l1.predict(X_test_scale)\n",
    "print(confusion_matrix(y_test, pred_clf))"
   ]
  },
  {
   "cell_type": "code",
   "execution_count": 125,
   "metadata": {},
   "outputs": [
    {
     "name": "stdout",
     "output_type": "stream",
     "text": [
      "              precision    recall  f1-score   support\n",
      "\n",
      "           0       0.00      0.00      0.00     17669\n",
      "           1       0.69      1.00      0.82     40258\n",
      "\n",
      "   micro avg       0.69      0.69      0.69     57927\n",
      "   macro avg       0.35      0.50      0.41     57927\n",
      "weighted avg       0.48      0.69      0.57     57927\n",
      "\n"
     ]
    },
    {
     "name": "stderr",
     "output_type": "stream",
     "text": [
      "C:\\Users\\neefi\\Anaconda3\\lib\\site-packages\\sklearn\\metrics\\classification.py:1143: UndefinedMetricWarning: Precision and F-score are ill-defined and being set to 0.0 in labels with no predicted samples.\n",
      "  'precision', 'predicted', average, warn_for)\n",
      "C:\\Users\\neefi\\Anaconda3\\lib\\site-packages\\sklearn\\metrics\\classification.py:1143: UndefinedMetricWarning: Precision and F-score are ill-defined and being set to 0.0 in labels with no predicted samples.\n",
      "  'precision', 'predicted', average, warn_for)\n",
      "C:\\Users\\neefi\\Anaconda3\\lib\\site-packages\\sklearn\\metrics\\classification.py:1143: UndefinedMetricWarning: Precision and F-score are ill-defined and being set to 0.0 in labels with no predicted samples.\n",
      "  'precision', 'predicted', average, warn_for)\n"
     ]
    }
   ],
   "source": [
    "##Classification Report\n",
    "\n",
    "from sklearn.metrics import classification_report\n",
    "\n",
    "\n",
    "print(classification_report(y_test, pred_clf))"
   ]
  },
  {
   "cell_type": "markdown",
   "metadata": {},
   "source": [
    "## Retooling Varibles"
   ]
  },
  {
   "cell_type": "code",
   "execution_count": 157,
   "metadata": {},
   "outputs": [
    {
     "data": {
      "image/png": "[encoded data removed]",
      "text/plain": [
       "<Figure size 432x288 with 1 Axes>"
      ]
     },
     "metadata": {
      "needs_background": "light"
     },
     "output_type": "display_data"
    }
   ],
   "source": [
    "plt.scatter(data.Age, data.Status)\n",
    "plt.title('Age vs. Status')\n",
    "plt.xlabel('Age')\n",
    "plt.ylabel('Status')\n",
    "plt.show()"
   ]
  },
  {
   "cell_type": "code",
   "execution_count": 172,
   "metadata": {},
   "outputs": [
    {
     "data": {
      "text/html": [
       "<div>\n",
       "<style scoped>\n",
       "    .dataframe tbody tr th:only-of-type {\n",
       "        vertical-align: middle;\n",
       "    }\n",
       "\n",
       "    .dataframe tbody tr th {\n",
       "        vertical-align: top;\n",
       "    }\n",
       "\n",
       "    .dataframe thead th {\n",
       "        text-align: right;\n",
       "    }\n",
       "</style>\n",
       "<table border=\"1\" class=\"dataframe\">\n",
       "  <thead>\n",
       "    <tr style=\"text-align: right;\">\n",
       "      <th>Status</th>\n",
       "      <th>0</th>\n",
       "      <th>1</th>\n",
       "    </tr>\n",
       "    <tr>\n",
       "      <th>age_cat</th>\n",
       "      <th></th>\n",
       "      <th></th>\n",
       "    </tr>\n",
       "  </thead>\n",
       "  <tbody>\n",
       "    <tr>\n",
       "      <th>0-17</th>\n",
       "      <td>20915</td>\n",
       "      <td>39367</td>\n",
       "    </tr>\n",
       "    <tr>\n",
       "      <th>18-25</th>\n",
       "      <td>11135</td>\n",
       "      <td>18145</td>\n",
       "    </tr>\n",
       "    <tr>\n",
       "      <th>26-34</th>\n",
       "      <td>12626</td>\n",
       "      <td>23403</td>\n",
       "    </tr>\n",
       "    <tr>\n",
       "      <th>35-40</th>\n",
       "      <td>7889</td>\n",
       "      <td>16118</td>\n",
       "    </tr>\n",
       "    <tr>\n",
       "      <th>41-60</th>\n",
       "      <td>23215</td>\n",
       "      <td>62355</td>\n",
       "    </tr>\n",
       "    <tr>\n",
       "      <th>61-80</th>\n",
       "      <td>10313</td>\n",
       "      <td>37030</td>\n",
       "    </tr>\n",
       "    <tr>\n",
       "      <th>81+</th>\n",
       "      <td>1676</td>\n",
       "      <td>5444</td>\n",
       "    </tr>\n",
       "  </tbody>\n",
       "</table>\n",
       "</div>"
      ],
      "text/plain": [
       "Status       0      1\n",
       "age_cat              \n",
       "0-17     20915  39367\n",
       "18-25    11135  18145\n",
       "26-34    12626  23403\n",
       "35-40     7889  16118\n",
       "41-60    23215  62355\n",
       "61-80    10313  37030\n",
       "81+       1676   5444"
      ]
     },
     "execution_count": 172,
     "metadata": {},
     "output_type": "execute_result"
    }
   ],
   "source": [
    "# There is non-linear trend in no shows for age, therefore we bin by age \n",
    "bins = [0,17,25,34,40,60,80,120]\n",
    "labels=['0-17', '18-25', '26-34', '35-40', '41-60', '61-80', '81+']\n",
    "data['age_cat'] = pd.cut(data['Age'], bins=bins, labels=labels, right=True)\n",
    "pd.crosstab([data.age_cat],data.Status, margins=False)"
   ]
  },
  {
   "cell_type": "code",
   "execution_count": 160,
   "metadata": {},
   "outputs": [
    {
     "data": {
      "image/png": "[encoded data removed]",
      "text/plain": [
       "<Figure size 432x288 with 1 Axes>"
      ]
     },
     "metadata": {
      "needs_background": "light"
     },
     "output_type": "display_data"
    }
   ],
   "source": [
    "plt.scatter(data.AwaitingTime, data.Status)\n",
    "plt.title('AwaitingTime vs. Status')\n",
    "plt.xlabel('Waiting Time')\n",
    "plt.ylabel('Status')\n",
    "plt.show()"
   ]
  },
  {
   "cell_type": "code",
   "execution_count": 37,
   "metadata": {},
   "outputs": [
    {
     "data": {
      "text/html": [
       "<div>\n",
       "<style scoped>\n",
       "    .dataframe tbody tr th:only-of-type {\n",
       "        vertical-align: middle;\n",
       "    }\n",
       "\n",
       "    .dataframe tbody tr th {\n",
       "        vertical-align: top;\n",
       "    }\n",
       "\n",
       "    .dataframe thead th {\n",
       "        text-align: right;\n",
       "    }\n",
       "</style>\n",
       "<table border=\"1\" class=\"dataframe\">\n",
       "  <thead>\n",
       "    <tr style=\"text-align: right;\">\n",
       "      <th>Status</th>\n",
       "      <th>0</th>\n",
       "      <th>1</th>\n",
       "    </tr>\n",
       "    <tr>\n",
       "      <th>wait_cat</th>\n",
       "      <th></th>\n",
       "      <th></th>\n",
       "    </tr>\n",
       "  </thead>\n",
       "  <tbody>\n",
       "    <tr>\n",
       "      <th>1-2</th>\n",
       "      <td>13987</td>\n",
       "      <td>43468</td>\n",
       "    </tr>\n",
       "    <tr>\n",
       "      <th>3-7</th>\n",
       "      <td>22620</td>\n",
       "      <td>60524</td>\n",
       "    </tr>\n",
       "    <tr>\n",
       "      <th>8-30</th>\n",
       "      <td>39899</td>\n",
       "      <td>77940</td>\n",
       "    </tr>\n",
       "    <tr>\n",
       "      <th>31-90</th>\n",
       "      <td>10780</td>\n",
       "      <td>18809</td>\n",
       "    </tr>\n",
       "    <tr>\n",
       "      <th>91-150</th>\n",
       "      <td>442</td>\n",
       "      <td>1012</td>\n",
       "    </tr>\n",
       "    <tr>\n",
       "      <th>150+</th>\n",
       "      <td>41</td>\n",
       "      <td>109</td>\n",
       "    </tr>\n",
       "  </tbody>\n",
       "</table>\n",
       "</div>"
      ],
      "text/plain": [
       "Status        0      1\n",
       "wait_cat              \n",
       "1-2       13987  43468\n",
       "3-7       22620  60524\n",
       "8-30      39899  77940\n",
       "31-90     10780  18809\n",
       "91-150      442   1012\n",
       "150+         41    109"
      ]
     },
     "execution_count": 37,
     "metadata": {},
     "output_type": "execute_result"
    }
   ],
   "source": [
    "bins = [-1,0,2,7,30,90,150,400]\n",
    "labels=['0', '1-2', '3-7', '8-30', '31-90', '91-150', '150+']\n",
    "data['wait_cat'] = pd.cut(data['AwaitingTime'], bins=bins, labels=labels, right=True)\n",
    "pd.crosstab([data.wait_cat],data.Status, margins=False)"
   ]
  },
  {
   "cell_type": "code",
   "execution_count": 163,
   "metadata": {},
   "outputs": [],
   "source": [
    "from sklearn.model_selection import cross_validate\n",
    "y = data.Status\n",
    "X = data.drop(columns=['Age', 'AwaitingTime', 'Status', 'AppointmentRegistration', 'AppointmentData', 'DayOfTheWeek', 'AppointmentMonths', 'Tuberculosis'], axis=1)\n",
    "\n",
    "##Dummy code the Age and Wait time categorical Variables\n",
    "\n",
    "\n",
    "X=pd.get_dummies(X, columns=['age_cat', 'wait_cat'], prefix=['age_cat', 'wait_cat'])\n"
   ]
  },
  {
   "cell_type": "code",
   "execution_count": 30,
   "metadata": {},
   "outputs": [
    {
     "data": {
      "text/html": [
       "<div>\n",
       "<style scoped>\n",
       "    .dataframe tbody tr th:only-of-type {\n",
       "        vertical-align: middle;\n",
       "    }\n",
       "\n",
       "    .dataframe tbody tr th {\n",
       "        vertical-align: top;\n",
       "    }\n",
       "\n",
       "    .dataframe thead th {\n",
       "        text-align: right;\n",
       "    }\n",
       "</style>\n",
       "<table border=\"1\" class=\"dataframe\">\n",
       "  <thead>\n",
       "    <tr style=\"text-align: right;\">\n",
       "      <th></th>\n",
       "      <th>Age</th>\n",
       "      <th>Alchoholism</th>\n",
       "      <th>Hypertension</th>\n",
       "      <th>Smokes</th>\n",
       "      <th>Scholarship</th>\n",
       "      <th>Sms_Reminder</th>\n",
       "      <th>AwaitingTime</th>\n",
       "    </tr>\n",
       "  </thead>\n",
       "  <tbody>\n",
       "    <tr>\n",
       "      <th>0</th>\n",
       "      <td>19</td>\n",
       "      <td>0</td>\n",
       "      <td>0</td>\n",
       "      <td>0</td>\n",
       "      <td>0</td>\n",
       "      <td>0</td>\n",
       "      <td>29</td>\n",
       "    </tr>\n",
       "    <tr>\n",
       "      <th>1</th>\n",
       "      <td>24</td>\n",
       "      <td>0</td>\n",
       "      <td>0</td>\n",
       "      <td>0</td>\n",
       "      <td>0</td>\n",
       "      <td>0</td>\n",
       "      <td>1</td>\n",
       "    </tr>\n",
       "    <tr>\n",
       "      <th>2</th>\n",
       "      <td>4</td>\n",
       "      <td>0</td>\n",
       "      <td>0</td>\n",
       "      <td>0</td>\n",
       "      <td>0</td>\n",
       "      <td>0</td>\n",
       "      <td>1</td>\n",
       "    </tr>\n",
       "    <tr>\n",
       "      <th>3</th>\n",
       "      <td>5</td>\n",
       "      <td>0</td>\n",
       "      <td>0</td>\n",
       "      <td>0</td>\n",
       "      <td>0</td>\n",
       "      <td>1</td>\n",
       "      <td>15</td>\n",
       "    </tr>\n",
       "    <tr>\n",
       "      <th>4</th>\n",
       "      <td>38</td>\n",
       "      <td>0</td>\n",
       "      <td>0</td>\n",
       "      <td>0</td>\n",
       "      <td>0</td>\n",
       "      <td>1</td>\n",
       "      <td>6</td>\n",
       "    </tr>\n",
       "  </tbody>\n",
       "</table>\n",
       "</div>"
      ],
      "text/plain": [
       "   Age  Alchoholism  Hypertension  Smokes  Scholarship  Sms_Reminder  \\\n",
       "0   19            0             0       0            0             0   \n",
       "1   24            0             0       0            0             0   \n",
       "2    4            0             0       0            0             0   \n",
       "3    5            0             0       0            0             1   \n",
       "4   38            0             0       0            0             1   \n",
       "\n",
       "   AwaitingTime  \n",
       "0            29  \n",
       "1             1  \n",
       "2             1  \n",
       "3            15  \n",
       "4             6  "
      ]
     },
     "execution_count": 30,
     "metadata": {},
     "output_type": "execute_result"
    }
   ],
   "source": [
    "from sklearn.model_selection import cross_validate\n",
    "y = data.Status\n",
    "X = data.drop(columns=['Status', 'Gender', 'Handicap', 'AppointmentRegistration', 'AppointmentData', 'DayOfTheWeek', 'AppointmentMonths', 'Tuberculosis', 'Diabetes'], axis=1)\n",
    "\n",
    "#X=pd.get_dummies(X, columns=['wait_cat'], prefix=['wait_cat'])\n",
    "\n",
    "#X = X.drop(columns=['AwaitingTime'], axis=1)\n",
    "\n",
    "X.head()"
   ]
  },
  {
   "cell_type": "code",
   "execution_count": 33,
   "metadata": {},
   "outputs": [],
   "source": [
    "##Split into train, test, and validate\n",
    "\n",
    "X_trainval, X_test, y_trainval, y_test = train_test_split(X, y,train_size=0.8)\n",
    "\n",
    "\n",
    "#splitting data into 60% as train/20% as test/20% as validate\n",
    "X_validate, X_train, y_validate, y_train  = train_test_split(X_trainval, y_trainval, train_size=0.25)"
   ]
  },
  {
   "cell_type": "code",
   "execution_count": 34,
   "metadata": {},
   "outputs": [
    {
     "name": "stdout",
     "output_type": "stream",
     "text": [
      "(57927, 7)\n",
      "(57926, 7)\n",
      "(173778, 7)\n"
     ]
    }
   ],
   "source": [
    "#Shape of train/test/Validate data\n",
    "print(X_test.shape)\n",
    "print(X_validate.shape)\n",
    "print(X_train.shape)"
   ]
  },
  {
   "cell_type": "code",
   "execution_count": 35,
   "metadata": {},
   "outputs": [
    {
     "name": "stderr",
     "output_type": "stream",
     "text": [
      "C:\\Users\\neefi\\Anaconda3\\lib\\site-packages\\sklearn\\preprocessing\\data.py:334: DataConversionWarning: Data with input dtype int64 were all converted to float64 by MinMaxScaler.\n",
      "  return self.partial_fit(X, y)\n",
      "C:\\Users\\neefi\\Anaconda3\\lib\\site-packages\\sklearn\\preprocessing\\data.py:334: DataConversionWarning: Data with input dtype int64 were all converted to float64 by MinMaxScaler.\n",
      "  return self.partial_fit(X, y)\n",
      "C:\\Users\\neefi\\Anaconda3\\lib\\site-packages\\sklearn\\preprocessing\\data.py:334: DataConversionWarning: Data with input dtype int64 were all converted to float64 by MinMaxScaler.\n",
      "  return self.partial_fit(X, y)\n",
      "C:\\Users\\neefi\\Anaconda3\\lib\\site-packages\\sklearn\\preprocessing\\data.py:334: DataConversionWarning: Data with input dtype int64 were all converted to float64 by MinMaxScaler.\n",
      "  return self.partial_fit(X, y)\n",
      "C:\\Users\\neefi\\Anaconda3\\lib\\site-packages\\sklearn\\preprocessing\\data.py:334: DataConversionWarning: Data with input dtype int64 were all converted to float64 by MinMaxScaler.\n",
      "  return self.partial_fit(X, y)\n"
     ]
    }
   ],
   "source": [
    "##Scaler transformation of the x variables\n",
    "\n",
    "from sklearn.preprocessing import MinMaxScaler\n",
    "scaler=MinMaxScaler()\n",
    "scaler.fit(X_train)\n",
    "X_train_scale=scaler.fit_transform(X_train)\n",
    "X_trainval_scale=scaler.fit_transform(X_trainval)\n",
    "X_validate_scale=scaler.fit_transform(X_validate)\n",
    "X_test_scale=scaler.fit_transform(X_test)"
   ]
  },
  {
   "cell_type": "code",
   "execution_count": 38,
   "metadata": {},
   "outputs": [
    {
     "data": {
      "text/plain": [
       "0.6597210233746504"
      ]
     },
     "execution_count": 38,
     "metadata": {},
     "output_type": "execute_result"
    }
   ],
   "source": [
    "from sklearn.ensemble import BaggingClassifier\n",
    "#ds = DecisionTreeClassifier(criterion='entropy',max_depth=4)\n",
    "bag = BaggingClassifier(max_samples=1.0,bootstrap=True)\n",
    "bag.fit(X_train_scale, y_train)\n",
    "bag.score(X_validate_scale, y_validate)"
   ]
  },
  {
   "cell_type": "code",
   "execution_count": 41,
   "metadata": {},
   "outputs": [],
   "source": [
    "from sklearn.ensemble import GradientBoostingClassifier\n",
    "from sklearn import tree\n",
    "from sklearn.model_selection import GridSearchCV\n",
    "from sklearn.model_selection import cross_val_score\n",
    "from sklearn.model_selection import KFold\n",
    "\n",
    "crossvalidation=KFold(n_splits=5,shuffle=True,random_state=1)\n",
    "GBC=GradientBoostingClassifier()\n",
    "search_grid={'n_estimators':[500,1000,2000],'learning_rate':[.001,0.01,.1],'max_depth':[1,3,5],'subsample':[.5,.75,1],'random_state':[1]}\n",
    "search=GridSearchCV(estimator=GBC,param_grid=search_grid,scoring='accuracy',n_jobs=1,cv=crossvalidation)"
   ]
  },
  {
   "cell_type": "code",
   "execution_count": 42,
   "metadata": {},
   "outputs": [
    {
     "data": {
      "text/plain": [
       "{'learning_rate': 0.1,\n",
       " 'max_depth': 1,\n",
       " 'n_estimators': 500,\n",
       " 'random_state': 1,\n",
       " 'subsample': 0.75}"
      ]
     },
     "execution_count": 42,
     "metadata": {},
     "output_type": "execute_result"
    }
   ],
   "source": [
    "search.fit(X_trainval_scale, y_trainval)\n",
    "search.best_params_"
   ]
  },
  {
   "cell_type": "code",
   "execution_count": 44,
   "metadata": {},
   "outputs": [
    {
     "name": "stdout",
     "output_type": "stream",
     "text": [
      "Best score on validation set: 0.70\n",
      "Best paramters:  {'n_estimators': 500, 'learning_rate': 0.01, 'max_depth': 5, 'subsample': 0.75, 'random_state': 1}\n",
      "Test set score with best parameters: 0.68\n"
     ]
    }
   ],
   "source": [
    "\n",
    "best_score=0\n",
    "\n",
    "for n_estimators in [500, 1000, 2000]:\n",
    "    for learning_rate in [0.001, 0.01, 0.5, 1]:\n",
    "        for max_depth in [1, 3, 5]:\n",
    "            for subsample in [0.5, 0.75, 1]:\n",
    "                GBC=GradientBoostingClassifier(n_estimators=n_estimators, learning_rate=learning_rate, max_depth=max_depth, subsample=subsample, random_state=1)\n",
    "                GBC.fit(X_train_scale, y_train)\n",
    "                score=GBC.score(X_validate_scale, y_validate)\n",
    "                if score > best_score:            \n",
    "                    best_score = score            \n",
    "                    best_parameters= {'n_estimators': n_estimators, 'learning_rate': learning_rate, 'max_depth': max_depth, 'subsample': subsample, 'random_state': 1 }\n",
    "\n",
    "    \n",
    "             \n",
    "GBC.fit(X_trainval_scale, y_trainval)\n",
    "test_score=GBC.score(X_test_scale, y_test)\n",
    "print(\"Best score on validation set: {:.2f}\".format(best_score))\n",
    "print(\"Best paramters: \", best_parameters)\n",
    "print(\"Test set score with best parameters: {:.2f}\".format(test_score))"
   ]
  },
  {
   "cell_type": "code",
   "execution_count": 49,
   "metadata": {},
   "outputs": [
    {
     "name": "stdout",
     "output_type": "stream",
     "text": [
      "Best score on validation set: 0.70\n",
      "Best paramters:  {'n_estimators': 500, 'learning_rate': 0.05, 'max_depth': 4, 'gamma': 5, 'colsample_bytree': 1, 'subsample': 0.75, 'random_state': 1}\n",
      "Test set score with best parameters: 0.70\n"
     ]
    }
   ],
   "source": [
    "#XGBOOST\n",
    "\n",
    "import xgboost as xgb\n",
    "\n",
    "best_score=0\n",
    "\n",
    "for n_estimators in [100, 500, 1000]:\n",
    "    for learning_rate in [0.001, 0.01, 0.05, 0.5]:\n",
    "        for max_depth in [1, 3, 4, 5]:\n",
    "            for subsample in [0.5, 0.75, 1]:\n",
    "                for gamma in [0, 1, 5]:\n",
    "                    for colsample_bytree in [0.1, 0.5, 1,]:                 \n",
    "                        XGB2=xgb.XGBClassifier(n_estimators=n_estimators, learning_rate=learning_rate, max_depth=max_depth, gamma=gamma, colsample_bytree=colsample_bytree, subsample=subsample, random_state=1)\n",
    "                        XGB2.fit(X_train_scale, y_train)\n",
    "                        score=XGB2.score(X_validate_scale, y_validate)\n",
    "                        if score > best_score:            \n",
    "                            best_score = score            \n",
    "                            best_parameters= {'n_estimators': n_estimators, 'learning_rate': learning_rate, 'max_depth': max_depth, 'gamma': gamma, 'colsample_bytree': colsample_bytree, 'subsample': subsample, 'random_state': 1 }\n",
    "\n",
    "    \n",
    "             \n",
    "XGB2.fit(X_trainval_scale, y_trainval)\n",
    "test_score=XGB2.score(X_test_scale, y_test)\n",
    "print(\"Best score on validation set: {:.2f}\".format(best_score))\n",
    "print(\"Best paramters: \", best_parameters)\n",
    "print(\"Test set score with best parameters: {:.2f}\".format(test_score))\n",
    "\n"
   ]
  },
  {
   "cell_type": "code",
   "execution_count": null,
   "metadata": {},
   "outputs": [],
   "source": []
  },
  {
   "cell_type": "code",
   "execution_count": 44,
   "metadata": {},
   "outputs": [
    {
     "name": "stdout",
     "output_type": "stream",
     "text": [
      "Best score on validation set: 0.66\n",
      "Test set score with best parameters: 0.65\n"
     ]
    }
   ],
   "source": [
    "##Naive Bayes\n",
    "\n",
    "from sklearn.naive_bayes import GaussianNB\n",
    "\n",
    "\n",
    "bay= GaussianNB()\n",
    "bay.fit(X_train_scale, y_train)\n",
    "best_score=bay.score(X_validate_scale, y_validate)\n",
    "\n",
    "            \n",
    "bay.fit(X_trainval_scale, y_trainval)\n",
    "test_score=bay.score(X_test_scale, y_test)\n",
    "print(\"Best score on validation set: {:.2f}\".format(best_score))\n",
    "#print(\"Best paramters: \", best_parameters)\n",
    "print(\"Test set score with best parameters: {:.2f}\".format(test_score))"
   ]
  },
  {
   "cell_type": "code",
   "execution_count": 45,
   "metadata": {},
   "outputs": [
    {
     "name": "stderr",
     "output_type": "stream",
     "text": [
      "C:\\Users\\neefi\\Anaconda3\\lib\\site-packages\\sklearn\\linear_model\\logistic.py:433: FutureWarning: Default solver will be changed to 'lbfgs' in 0.22. Specify a solver to silence this warning.\n",
      "  FutureWarning)\n",
      "C:\\Users\\neefi\\Anaconda3\\lib\\site-packages\\sklearn\\linear_model\\logistic.py:433: FutureWarning: Default solver will be changed to 'lbfgs' in 0.22. Specify a solver to silence this warning.\n",
      "  FutureWarning)\n",
      "C:\\Users\\neefi\\Anaconda3\\lib\\site-packages\\sklearn\\linear_model\\logistic.py:433: FutureWarning: Default solver will be changed to 'lbfgs' in 0.22. Specify a solver to silence this warning.\n",
      "  FutureWarning)\n",
      "C:\\Users\\neefi\\Anaconda3\\lib\\site-packages\\sklearn\\linear_model\\logistic.py:433: FutureWarning: Default solver will be changed to 'lbfgs' in 0.22. Specify a solver to silence this warning.\n",
      "  FutureWarning)\n",
      "C:\\Users\\neefi\\Anaconda3\\lib\\site-packages\\sklearn\\linear_model\\logistic.py:433: FutureWarning: Default solver will be changed to 'lbfgs' in 0.22. Specify a solver to silence this warning.\n",
      "  FutureWarning)\n",
      "C:\\Users\\neefi\\Anaconda3\\lib\\site-packages\\sklearn\\linear_model\\logistic.py:433: FutureWarning: Default solver will be changed to 'lbfgs' in 0.22. Specify a solver to silence this warning.\n",
      "  FutureWarning)\n",
      "C:\\Users\\neefi\\Anaconda3\\lib\\site-packages\\sklearn\\linear_model\\logistic.py:433: FutureWarning: Default solver will be changed to 'lbfgs' in 0.22. Specify a solver to silence this warning.\n",
      "  FutureWarning)\n"
     ]
    },
    {
     "name": "stdout",
     "output_type": "stream",
     "text": [
      "Best score on validation set: 0.70\n",
      "Best paramters:  {'C': 0.01}\n",
      "Test set score with best parameters: 0.70\n"
     ]
    }
   ],
   "source": [
    "##logistic regression\n",
    "\n",
    "from sklearn.linear_model import LogisticRegression\n",
    "\n",
    "best_score=0\n",
    "\n",
    "for C in[0.001, 0.01, 0.1, 1, 10, 100]:\n",
    "    clf=LogisticRegression(C=C)\n",
    "    clf.fit(X_train_scale, y_train)\n",
    "    score=clf.score(X_validate_scale, y_validate)\n",
    "    if score > best_score:\n",
    "            best_score = score\n",
    "            best_parameters= {'C': C}\n",
    "            \n",
    "clf= LogisticRegression(**best_parameters)\n",
    "clf.fit(X_trainval_scale, y_trainval)\n",
    "test_score=clf.score(X_test_scale, y_test)\n",
    "print(\"Best score on validation set: {:.2f}\".format(best_score))\n",
    "print(\"Best paramters: \", best_parameters)\n",
    "print(\"Test set score with best parameters: {:.2f}\".format(test_score))"
   ]
  },
  {
   "cell_type": "code",
   "execution_count": 170,
   "metadata": {},
   "outputs": [
    {
     "name": "stdout",
     "output_type": "stream",
     "text": [
      "Best score on validation set: 0.70\n",
      "Best paramters:  {'max_depth': 9, 'n_estimators': 100}\n",
      "Test set score with best parameters: 0.70\n"
     ]
    }
   ],
   "source": [
    "##Random Forest\n",
    "\n",
    "from sklearn.ensemble import RandomForestClassifier\n",
    "\n",
    "best_score=0\n",
    "\n",
    "for max_depth in [2, 3, 4, 5, 6, 7, 8, 9, 10]:\n",
    "    for n_estimators in [10, 100, 1000, 10000]:\n",
    "        forest=RandomForestClassifier(n_estimators=n_estimators, max_depth=max_depth, random_state=0)\n",
    "        forest.fit(X_train_scale, y_train)\n",
    "        score=forest.score(X_validate_scale, y_validate)\n",
    "        if score > best_score:\n",
    "            best_score = score\n",
    "            best_parameters= {'max_depth': max_depth, 'n_estimators': n_estimators}\n",
    "            \n",
    "forest=RandomForestClassifier(**best_parameters)\n",
    "forest.fit(X_trainval_scale, y_trainval)\n",
    "test_score=forest.score(X_test_scale, y_test)\n",
    "print(\"Best score on validation set: {:.2f}\".format(best_score))\n",
    "print(\"Best paramters: \", best_parameters)\n",
    "print(\"Test set score with best parameters: {:.2f}\".format(test_score))"
   ]
  }
 ],
 "metadata": {
  "kernelspec": {
   "display_name": "Python 3",
   "language": "python",
   "name": "python3"
  },
  "language_info": {
   "codemirror_mode": {
    "name": "ipython",
    "version": 3
   },
   "file_extension": ".py",
   "mimetype": "text/x-python",
   "name": "python",
   "nbconvert_exporter": "python",
   "pygments_lexer": "ipython3",
   "version": "3.7.3"
  }
 },
 "nbformat": 4,
 "nbformat_minor": 2
}
